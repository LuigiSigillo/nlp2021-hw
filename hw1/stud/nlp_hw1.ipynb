{
  "nbformat": 4,
  "nbformat_minor": 0,
  "metadata": {
    "colab": {
      "name": "nlp-hw1.ipynb",
      "provenance": [],
      "collapsed_sections": [
        "anwpXc08XRKf",
        "mkMP7JR-DGfB",
        "CRni2aJ-O_VY"
      ],
      "authorship_tag": "ABX9TyM4QFDswIkNbR6DCyvLXqc0",
      "include_colab_link": true
    },
    "kernelspec": {
      "name": "python3",
      "display_name": "Python 3"
    },
    "language_info": {
      "name": "python"
    },
    "accelerator": "GPU",
    "widgets": {
      "application/vnd.jupyter.widget-state+json": {
        "a2c07f437ca64556a4e39eae10989ced": {
          "model_module": "@jupyter-widgets/controls",
          "model_name": "HBoxModel",
          "state": {
            "_view_name": "HBoxView",
            "_dom_classes": [],
            "_model_name": "HBoxModel",
            "_view_module": "@jupyter-widgets/controls",
            "_model_module_version": "1.5.0",
            "_view_count": null,
            "_view_module_version": "1.5.0",
            "box_style": "",
            "layout": "IPY_MODEL_3e9b73290cbf4ebc986b42856e473dc6",
            "_model_module": "@jupyter-widgets/controls",
            "children": [
              "IPY_MODEL_2891aca75c8b4430ae9be28050ddb4ca",
              "IPY_MODEL_bceff48da9474b3394a7728936790455"
            ]
          }
        },
        "3e9b73290cbf4ebc986b42856e473dc6": {
          "model_module": "@jupyter-widgets/base",
          "model_name": "LayoutModel",
          "state": {
            "_view_name": "LayoutView",
            "grid_template_rows": null,
            "right": null,
            "justify_content": null,
            "_view_module": "@jupyter-widgets/base",
            "overflow": null,
            "_model_module_version": "1.2.0",
            "_view_count": null,
            "flex_flow": null,
            "width": null,
            "min_width": null,
            "border": null,
            "align_items": null,
            "bottom": null,
            "_model_module": "@jupyter-widgets/base",
            "top": null,
            "grid_column": null,
            "overflow_y": null,
            "overflow_x": null,
            "grid_auto_flow": null,
            "grid_area": null,
            "grid_template_columns": null,
            "flex": null,
            "_model_name": "LayoutModel",
            "justify_items": null,
            "grid_row": null,
            "max_height": null,
            "align_content": null,
            "visibility": null,
            "align_self": null,
            "height": null,
            "min_height": null,
            "padding": null,
            "grid_auto_rows": null,
            "grid_gap": null,
            "max_width": null,
            "order": null,
            "_view_module_version": "1.2.0",
            "grid_template_areas": null,
            "object_position": null,
            "object_fit": null,
            "grid_auto_columns": null,
            "margin": null,
            "display": null,
            "left": null
          }
        },
        "2891aca75c8b4430ae9be28050ddb4ca": {
          "model_module": "@jupyter-widgets/controls",
          "model_name": "FloatProgressModel",
          "state": {
            "_view_name": "ProgressView",
            "style": "IPY_MODEL_06f1e11033b24386a9728326e3fce93c",
            "_dom_classes": [],
            "description": " 99%",
            "_model_name": "FloatProgressModel",
            "bar_style": "danger",
            "max": 140000,
            "_view_module": "@jupyter-widgets/controls",
            "_model_module_version": "1.5.0",
            "value": 138610,
            "_view_count": null,
            "_view_module_version": "1.5.0",
            "orientation": "horizontal",
            "min": 0,
            "description_tooltip": null,
            "_model_module": "@jupyter-widgets/controls",
            "layout": "IPY_MODEL_2a4c9f95c2334340ad1d1cf59f4f4d7a"
          }
        },
        "bceff48da9474b3394a7728936790455": {
          "model_module": "@jupyter-widgets/controls",
          "model_name": "HTMLModel",
          "state": {
            "_view_name": "HTMLView",
            "style": "IPY_MODEL_d9c91f8c44c648ae882af7b644857651",
            "_dom_classes": [],
            "description": "",
            "_model_name": "HTMLModel",
            "placeholder": "​",
            "_view_module": "@jupyter-widgets/controls",
            "_model_module_version": "1.5.0",
            "value": " 138610/140000 [00:30&lt;00:00, 15427.68it/s]",
            "_view_count": null,
            "_view_module_version": "1.5.0",
            "description_tooltip": null,
            "_model_module": "@jupyter-widgets/controls",
            "layout": "IPY_MODEL_219cd45a012d4e848a987f2048d6f315"
          }
        },
        "06f1e11033b24386a9728326e3fce93c": {
          "model_module": "@jupyter-widgets/controls",
          "model_name": "ProgressStyleModel",
          "state": {
            "_view_name": "StyleView",
            "_model_name": "ProgressStyleModel",
            "description_width": "initial",
            "_view_module": "@jupyter-widgets/base",
            "_model_module_version": "1.5.0",
            "_view_count": null,
            "_view_module_version": "1.2.0",
            "bar_color": null,
            "_model_module": "@jupyter-widgets/controls"
          }
        },
        "2a4c9f95c2334340ad1d1cf59f4f4d7a": {
          "model_module": "@jupyter-widgets/base",
          "model_name": "LayoutModel",
          "state": {
            "_view_name": "LayoutView",
            "grid_template_rows": null,
            "right": null,
            "justify_content": null,
            "_view_module": "@jupyter-widgets/base",
            "overflow": null,
            "_model_module_version": "1.2.0",
            "_view_count": null,
            "flex_flow": null,
            "width": null,
            "min_width": null,
            "border": null,
            "align_items": null,
            "bottom": null,
            "_model_module": "@jupyter-widgets/base",
            "top": null,
            "grid_column": null,
            "overflow_y": null,
            "overflow_x": null,
            "grid_auto_flow": null,
            "grid_area": null,
            "grid_template_columns": null,
            "flex": null,
            "_model_name": "LayoutModel",
            "justify_items": null,
            "grid_row": null,
            "max_height": null,
            "align_content": null,
            "visibility": null,
            "align_self": null,
            "height": null,
            "min_height": null,
            "padding": null,
            "grid_auto_rows": null,
            "grid_gap": null,
            "max_width": null,
            "order": null,
            "_view_module_version": "1.2.0",
            "grid_template_areas": null,
            "object_position": null,
            "object_fit": null,
            "grid_auto_columns": null,
            "margin": null,
            "display": null,
            "left": null
          }
        },
        "d9c91f8c44c648ae882af7b644857651": {
          "model_module": "@jupyter-widgets/controls",
          "model_name": "DescriptionStyleModel",
          "state": {
            "_view_name": "StyleView",
            "_model_name": "DescriptionStyleModel",
            "description_width": "",
            "_view_module": "@jupyter-widgets/base",
            "_model_module_version": "1.5.0",
            "_view_count": null,
            "_view_module_version": "1.2.0",
            "_model_module": "@jupyter-widgets/controls"
          }
        },
        "219cd45a012d4e848a987f2048d6f315": {
          "model_module": "@jupyter-widgets/base",
          "model_name": "LayoutModel",
          "state": {
            "_view_name": "LayoutView",
            "grid_template_rows": null,
            "right": null,
            "justify_content": null,
            "_view_module": "@jupyter-widgets/base",
            "overflow": null,
            "_model_module_version": "1.2.0",
            "_view_count": null,
            "flex_flow": null,
            "width": null,
            "min_width": null,
            "border": null,
            "align_items": null,
            "bottom": null,
            "_model_module": "@jupyter-widgets/base",
            "top": null,
            "grid_column": null,
            "overflow_y": null,
            "overflow_x": null,
            "grid_auto_flow": null,
            "grid_area": null,
            "grid_template_columns": null,
            "flex": null,
            "_model_name": "LayoutModel",
            "justify_items": null,
            "grid_row": null,
            "max_height": null,
            "align_content": null,
            "visibility": null,
            "align_self": null,
            "height": null,
            "min_height": null,
            "padding": null,
            "grid_auto_rows": null,
            "grid_gap": null,
            "max_width": null,
            "order": null,
            "_view_module_version": "1.2.0",
            "grid_template_areas": null,
            "object_position": null,
            "object_fit": null,
            "grid_auto_columns": null,
            "margin": null,
            "display": null,
            "left": null
          }
        },
        "1c0b022bebc246d3b992dd2f1ce3a1d4": {
          "model_module": "@jupyter-widgets/controls",
          "model_name": "HBoxModel",
          "state": {
            "_view_name": "HBoxView",
            "_dom_classes": [],
            "_model_name": "HBoxModel",
            "_view_module": "@jupyter-widgets/controls",
            "_model_module_version": "1.5.0",
            "_view_count": null,
            "_view_module_version": "1.5.0",
            "box_style": "",
            "layout": "IPY_MODEL_ecb3b58cbdb949bf8c80884d1db94af6",
            "_model_module": "@jupyter-widgets/controls",
            "children": [
              "IPY_MODEL_4563dff170fd4164b2dd02fde28653da",
              "IPY_MODEL_743ce5f0d64e4695b381ebd328b0fab9"
            ]
          }
        },
        "ecb3b58cbdb949bf8c80884d1db94af6": {
          "model_module": "@jupyter-widgets/base",
          "model_name": "LayoutModel",
          "state": {
            "_view_name": "LayoutView",
            "grid_template_rows": null,
            "right": null,
            "justify_content": null,
            "_view_module": "@jupyter-widgets/base",
            "overflow": null,
            "_model_module_version": "1.2.0",
            "_view_count": null,
            "flex_flow": null,
            "width": null,
            "min_width": null,
            "border": null,
            "align_items": null,
            "bottom": null,
            "_model_module": "@jupyter-widgets/base",
            "top": null,
            "grid_column": null,
            "overflow_y": null,
            "overflow_x": null,
            "grid_auto_flow": null,
            "grid_area": null,
            "grid_template_columns": null,
            "flex": null,
            "_model_name": "LayoutModel",
            "justify_items": null,
            "grid_row": null,
            "max_height": null,
            "align_content": null,
            "visibility": null,
            "align_self": null,
            "height": null,
            "min_height": null,
            "padding": null,
            "grid_auto_rows": null,
            "grid_gap": null,
            "max_width": null,
            "order": null,
            "_view_module_version": "1.2.0",
            "grid_template_areas": null,
            "object_position": null,
            "object_fit": null,
            "grid_auto_columns": null,
            "margin": null,
            "display": null,
            "left": null
          }
        },
        "4563dff170fd4164b2dd02fde28653da": {
          "model_module": "@jupyter-widgets/controls",
          "model_name": "FloatProgressModel",
          "state": {
            "_view_name": "ProgressView",
            "style": "IPY_MODEL_3c2f24b525ac4a63a37a36ba7993b6bb",
            "_dom_classes": [],
            "description": "100%",
            "_model_name": "FloatProgressModel",
            "bar_style": "success",
            "max": 50,
            "_view_module": "@jupyter-widgets/controls",
            "_model_module_version": "1.5.0",
            "value": 50,
            "_view_count": null,
            "_view_module_version": "1.5.0",
            "orientation": "horizontal",
            "min": 0,
            "description_tooltip": null,
            "_model_module": "@jupyter-widgets/controls",
            "layout": "IPY_MODEL_488343ad66454a36ab1138f813337b83"
          }
        },
        "743ce5f0d64e4695b381ebd328b0fab9": {
          "model_module": "@jupyter-widgets/controls",
          "model_name": "HTMLModel",
          "state": {
            "_view_name": "HTMLView",
            "style": "IPY_MODEL_27067e3232384e71a3f98a3b2c62af76",
            "_dom_classes": [],
            "description": "",
            "_model_name": "HTMLModel",
            "placeholder": "​",
            "_view_module": "@jupyter-widgets/controls",
            "_model_module_version": "1.5.0",
            "value": " 50/50 [02:11&lt;00:00,  2.63s/it]",
            "_view_count": null,
            "_view_module_version": "1.5.0",
            "description_tooltip": null,
            "_model_module": "@jupyter-widgets/controls",
            "layout": "IPY_MODEL_bda81f02a9ac4e2aabcc9ba44b4488f1"
          }
        },
        "3c2f24b525ac4a63a37a36ba7993b6bb": {
          "model_module": "@jupyter-widgets/controls",
          "model_name": "ProgressStyleModel",
          "state": {
            "_view_name": "StyleView",
            "_model_name": "ProgressStyleModel",
            "description_width": "initial",
            "_view_module": "@jupyter-widgets/base",
            "_model_module_version": "1.5.0",
            "_view_count": null,
            "_view_module_version": "1.2.0",
            "bar_color": null,
            "_model_module": "@jupyter-widgets/controls"
          }
        },
        "488343ad66454a36ab1138f813337b83": {
          "model_module": "@jupyter-widgets/base",
          "model_name": "LayoutModel",
          "state": {
            "_view_name": "LayoutView",
            "grid_template_rows": null,
            "right": null,
            "justify_content": null,
            "_view_module": "@jupyter-widgets/base",
            "overflow": null,
            "_model_module_version": "1.2.0",
            "_view_count": null,
            "flex_flow": null,
            "width": null,
            "min_width": null,
            "border": null,
            "align_items": null,
            "bottom": null,
            "_model_module": "@jupyter-widgets/base",
            "top": null,
            "grid_column": null,
            "overflow_y": null,
            "overflow_x": null,
            "grid_auto_flow": null,
            "grid_area": null,
            "grid_template_columns": null,
            "flex": null,
            "_model_name": "LayoutModel",
            "justify_items": null,
            "grid_row": null,
            "max_height": null,
            "align_content": null,
            "visibility": null,
            "align_self": null,
            "height": null,
            "min_height": null,
            "padding": null,
            "grid_auto_rows": null,
            "grid_gap": null,
            "max_width": null,
            "order": null,
            "_view_module_version": "1.2.0",
            "grid_template_areas": null,
            "object_position": null,
            "object_fit": null,
            "grid_auto_columns": null,
            "margin": null,
            "display": null,
            "left": null
          }
        },
        "27067e3232384e71a3f98a3b2c62af76": {
          "model_module": "@jupyter-widgets/controls",
          "model_name": "DescriptionStyleModel",
          "state": {
            "_view_name": "StyleView",
            "_model_name": "DescriptionStyleModel",
            "description_width": "",
            "_view_module": "@jupyter-widgets/base",
            "_model_module_version": "1.5.0",
            "_view_count": null,
            "_view_module_version": "1.2.0",
            "_model_module": "@jupyter-widgets/controls"
          }
        },
        "bda81f02a9ac4e2aabcc9ba44b4488f1": {
          "model_module": "@jupyter-widgets/base",
          "model_name": "LayoutModel",
          "state": {
            "_view_name": "LayoutView",
            "grid_template_rows": null,
            "right": null,
            "justify_content": null,
            "_view_module": "@jupyter-widgets/base",
            "overflow": null,
            "_model_module_version": "1.2.0",
            "_view_count": null,
            "flex_flow": null,
            "width": null,
            "min_width": null,
            "border": null,
            "align_items": null,
            "bottom": null,
            "_model_module": "@jupyter-widgets/base",
            "top": null,
            "grid_column": null,
            "overflow_y": null,
            "overflow_x": null,
            "grid_auto_flow": null,
            "grid_area": null,
            "grid_template_columns": null,
            "flex": null,
            "_model_name": "LayoutModel",
            "justify_items": null,
            "grid_row": null,
            "max_height": null,
            "align_content": null,
            "visibility": null,
            "align_self": null,
            "height": null,
            "min_height": null,
            "padding": null,
            "grid_auto_rows": null,
            "grid_gap": null,
            "max_width": null,
            "order": null,
            "_view_module_version": "1.2.0",
            "grid_template_areas": null,
            "object_position": null,
            "object_fit": null,
            "grid_auto_columns": null,
            "margin": null,
            "display": null,
            "left": null
          }
        }
      }
    }
  },
  "cells": [
    {
      "cell_type": "markdown",
      "metadata": {
        "id": "view-in-github",
        "colab_type": "text"
      },
      "source": [
        "<a href=\"https://colab.research.google.com/github/LuigiSigillo/nlp2021-hw/blob/master/hw1/stud/nlp_hw1.ipynb\" target=\"_parent\"><img src=\"https://colab.research.google.com/assets/colab-badge.svg\" alt=\"Open In Colab\"/></a>"
      ]
    },
    {
      "cell_type": "markdown",
      "metadata": {
        "id": "DyM39Hb89WdF"
      },
      "source": [
        "### Imports"
      ]
    },
    {
      "cell_type": "code",
      "metadata": {
        "id": "Q2n5xn1F5kvq",
        "colab": {
          "base_uri": "https://localhost:8080/"
        },
        "outputId": "baa7f4a3-19bb-4a41-bba1-d59a06bb93a4"
      },
      "source": [
        "from google.colab import drive\n",
        "# general\n",
        "import matplotlib.pyplot as plt\n",
        "import numpy as np\n",
        "import os\n",
        "from collections import Counter, defaultdict\n",
        "from tqdm.notebook import tqdm\n",
        "from typing import *\n",
        "from torch.utils.tensorboard import SummaryWriter\n",
        "\n",
        "# torch\n",
        "import torch\n",
        "import json\n",
        "from torch import nn\n",
        "from torch.utils.data import Dataset, DataLoader\n",
        "from torch.optim import SGD\n",
        "\n",
        "# NLTK\n",
        "from nltk.corpus import stopwords\n",
        "from nltk.tokenize import word_tokenize\n",
        "import nltk\n",
        "nltk.download('stopwords')\n",
        "nltk.download('punkt')\n",
        "\n",
        "# SKLEARN\n",
        "from sklearn.metrics import accuracy_score\n",
        "from sklearn.metrics import f1_score\n",
        "\n",
        "drive.mount('/content/drive')\n",
        "root_folder = '/content/drive/My Drive/NLP/nlp2021-hw1'\n",
        "dataset_folder = os.path.join(root_folder,'data')\n",
        "\n",
        "''' code to download and move the glove embeddings in the right folder '''\n",
        "#! wget http://nlp.stanford.edu/data/wordvecs/glove.6B.zip\n",
        "#! unzip -d data/glove.6B\n",
        "#! cd '/content/drive/My Drive/NLP/nlp2021-hw1'\n",
        "#!unzip '/content/drive/My Drive/NLP/nlp2021-hw1/glove.6B.zip'\n",
        "# !mv glove.6B.200d.txt '/content/drive/My Drive/NLP/nlp2021-hw1/model'\n",
        "!ls \"{root_folder}/model/\""
      ],
      "execution_count": 11,
      "outputs": [
        {
          "output_type": "stream",
          "text": [
            "[nltk_data] Downloading package stopwords to /root/nltk_data...\n",
            "[nltk_data]   Package stopwords is already up-to-date!\n",
            "[nltk_data] Downloading package punkt to /root/nltk_data...\n",
            "[nltk_data]   Package punkt is already up-to-date!\n",
            "Drive already mounted at /content/drive; to attempt to forcibly remount, call drive.mount(\"/content/drive\", force_remount=True).\n",
            "glove.6B.100d.txt  glove.6B.300d.txt  state_149.pt\n",
            "glove.6B.200d.txt  glove.6B.50d.txt   state_79.pt\n"
          ],
          "name": "stdout"
        }
      ]
    },
    {
      "cell_type": "code",
      "metadata": {
        "id": "FqmOAYIa_elL"
      },
      "source": [
        "#@title Setup of parameters{ run: \"auto\" }\n",
        "WE_LENGTH = \"200\" #@param [50,100,200,300]\n",
        "METHOD = \"avg\" #@param [\"avg\",\"sum\",\"weigthed_avg\"]\n",
        "USE_SEP = \"True\" #@param [\"True\", \"False\"]\n",
        "WORDS_LIMIT = 140000 #@param {type:\"slider\", min:20000, max:200000, step:20000}\n"
      ],
      "execution_count": 12,
      "outputs": []
    },
    {
      "cell_type": "markdown",
      "metadata": {
        "id": "0y_g6ETA_lf3"
      },
      "source": [
        "# First approach (word-level)\n"
      ]
    },
    {
      "cell_type": "markdown",
      "metadata": {
        "id": "anwpXc08XRKf"
      },
      "source": [
        "### Loading of Glove word embeddings"
      ]
    },
    {
      "cell_type": "markdown",
      "metadata": {
        "id": "pgljP56n-Wgm"
      },
      "source": [
        "Added to the dictionary also the \"UNK\" and \"SEP\" words using a random vector"
      ]
    },
    {
      "cell_type": "code",
      "metadata": {
        "colab": {
          "base_uri": "https://localhost:8080/",
          "height": 0,
          "referenced_widgets": [
            "a2c07f437ca64556a4e39eae10989ced",
            "3e9b73290cbf4ebc986b42856e473dc6",
            "2891aca75c8b4430ae9be28050ddb4ca",
            "bceff48da9474b3394a7728936790455",
            "06f1e11033b24386a9728326e3fce93c",
            "2a4c9f95c2334340ad1d1cf59f4f4d7a",
            "d9c91f8c44c648ae882af7b644857651",
            "219cd45a012d4e848a987f2048d6f315"
          ]
        },
        "id": "Te3_zheKQQDe",
        "outputId": "a48d50c9-95b0-44f8-baef-8b52f3099e84"
      },
      "source": [
        "word_vectors = dict()\n",
        "with open(root_folder+'/model/glove.6B.'+WE_LENGTH+'d.txt') as f:\n",
        "\n",
        "    next(f)  # skip header\n",
        "\n",
        "    for i, line in tqdm(enumerate(f), total=WORDS_LIMIT):\n",
        "\n",
        "        if i == WORDS_LIMIT:\n",
        "            break\n",
        "\n",
        "        word, *vector = line.strip().split(' ')\n",
        "        vector = torch.tensor([float(c) for c in vector])\n",
        "        \n",
        "        word_vectors[word] = vector\n",
        "# word_vectors[\"UNK\"] = np.mean(np.array(list(word_vectors.values()), dtype=np.float64), axis=0)\n",
        "word_vectors[\"UNK\"] = torch.tensor(np.random.random(int(WE_LENGTH)),dtype=torch.float)\n",
        "if USE_SEP == \"true\":\n",
        "    word_vectors[\"SEP\"] = torch.tensor(np.random.random(int(WE_LENGTH)),dtype=torch.float)"
      ],
      "execution_count": 13,
      "outputs": [
        {
          "output_type": "display_data",
          "data": {
            "application/vnd.jupyter.widget-view+json": {
              "model_id": "a2c07f437ca64556a4e39eae10989ced",
              "version_minor": 0,
              "version_major": 2
            },
            "text/plain": [
              "HBox(children=(FloatProgress(value=0.0, max=140000.0), HTML(value='')))"
            ]
          },
          "metadata": {
            "tags": []
          }
        }
      ]
    },
    {
      "cell_type": "markdown",
      "metadata": {
        "id": "wKed-2p_XsMH"
      },
      "source": [
        "Word-embedding-powered function $\\phi$. Converts sentences to a vector by averaging the embeddings corresponding to each word in it"
      ]
    },
    {
      "cell_type": "code",
      "metadata": {
        "id": "kpsIPHyUV6Lt"
      },
      "source": [
        "def phrase2vector(phrase: str, method: str, keyword: str) -> Optional[torch.Tensor]:\n",
        "    phrases_word_vector = []\n",
        "    if method == \"avg\":\n",
        "        phrases_word_vector = [word_vectors[w] if w in word_vectors else word_vectors['UNK'] for w in phrase.split(' ')]\n",
        "    elif method ==\"weigthed_avg\":\n",
        "        for w in phrase.split(' '):\n",
        "            coeff = 1\n",
        "            if w in word_vectors:\n",
        "                if w == keyword:\n",
        "                    coeff = 1.5\n",
        "                phrases_word_vector.append(word_vectors[w]*coeff)\n",
        "            else:\n",
        "                phrases_word_vector.append(word_vectors['UNK'])\n",
        "\n",
        "    if len(phrases_word_vector) == 0:\n",
        "        return None\n",
        "\n",
        "    phrases_word_vector = torch.stack(phrases_word_vector)  # tensor shape: (#words X #features)\n",
        "    if method==\"sum\":\n",
        "        return torch.sum(phrases_word_vector, dim=0)\n",
        "    else:\n",
        "        return torch.mean(phrases_word_vector, dim=0)"
      ],
      "execution_count": 14,
      "outputs": []
    },
    {
      "cell_type": "markdown",
      "metadata": {
        "id": "mkMP7JR-DGfB"
      },
      "source": [
        "### Dataset class and interfaces"
      ]
    },
    {
      "cell_type": "code",
      "metadata": {
        "id": "ti80ryeyXUXT"
      },
      "source": [
        "class SentencesDataset(torch.utils.data.Dataset):\n",
        "\n",
        "    def __init__(self, dataset_path: str, phrase2vector):\n",
        "        self.data_store = []\n",
        "        self.init_structures(dataset_path, phrase2vector)\n",
        "\n",
        "    def init_structures(self, dataset_path: str, phrase2vector) -> None:\n",
        "\n",
        "        with open(dataset_path) as f:\n",
        "            for json_string in f:\n",
        "                single_json = json.loads(json_string)\n",
        "                keyword = single_json['sentence1'][int(single_json['start1']):int(single_json['end1'])]\n",
        "                sep = \" \" if USE_SEP == \"false\" else \" SEP \"\n",
        "                sentence =  self.remove_stopwords(single_json['sentence1']) + sep + self.remove_stopwords(single_json['sentence2'])\n",
        "                ground_t = np.float32(1) if single_json['label'] =='True' else np.float32(0)\n",
        "                vector = phrase2vector(sentence,METHOD,keyword)\n",
        "                if vector is None:\n",
        "                    continue\n",
        "                    \n",
        "                self.data_store.append((vector,ground_t))\n",
        "\n",
        "    def remove_stopwords(self,sent):\n",
        "        stop_words = set(stopwords.words('english'))\n",
        "        word_tokens = word_tokenize(sent)\n",
        "        filtered_sentence = [w for w in word_tokens if not w in stop_words]\n",
        "        filtered_sentence = []\n",
        "\n",
        "        for w in word_tokens:\n",
        "            if w not in stop_words:\n",
        "                filtered_sentence.append(w)\n",
        "        \n",
        "        return \" \".join(filtered_sentence)\n",
        "    \n",
        "    def __len__(self) -> int:\n",
        "        return len(self.data_store)\n",
        "\n",
        "    def __getitem__(self, idx: int) -> torch.Tensor:\n",
        "        return self.data_store[idx]"
      ],
      "execution_count": 15,
      "outputs": []
    },
    {
      "cell_type": "code",
      "metadata": {
        "id": "v8K2TtSOXY13"
      },
      "source": [
        "class SentencesDataModule(nn.Module):\n",
        "\n",
        "    def __init__(\n",
        "        self, \n",
        "        data_train_path: str,\n",
        "        data_dev_path: str,\n",
        "        batch_size: int,\n",
        "        collate_fn=None\n",
        "    ) -> None:\n",
        "        super().__init__()\n",
        "        self.data_train_path = data_train_path\n",
        "        self.data_dev_path = data_dev_path\n",
        "        self.batch_size = batch_size\n",
        "        self.collate_fn = collate_fn\n",
        "\n",
        "        self.train_dataset = None\n",
        "        self.validation_dataset = None\n",
        "\n",
        "    def train_dataloader(self, *args, **kwargs) -> DataLoader:\n",
        "        self.train_dataset = SentencesDataset(self.data_train_path, phrase2vector)\n",
        "        return DataLoader(self.train_dataset, batch_size=self.batch_size)\n",
        "\n",
        "    def val_dataloader(self, *args, **kwargs) -> Union[DataLoader, List[DataLoader]]:\n",
        "        self.validation_dataset = SentencesDataset(self.data_dev_path, phrase2vector)\n",
        "        return DataLoader(self.validation_dataset, batch_size=self.batch_size)\n"
      ],
      "execution_count": 16,
      "outputs": []
    },
    {
      "cell_type": "markdown",
      "metadata": {
        "id": "ELkIYmAwDTft"
      },
      "source": [
        "Loading and testing of the dataset"
      ]
    },
    {
      "cell_type": "code",
      "metadata": {
        "id": "xwuHz1kdXryl",
        "colab": {
          "base_uri": "https://localhost:8080/"
        },
        "outputId": "768baba3-1e9f-473b-c9c8-41da69d96e85"
      },
      "source": [
        "BATCH_SIZE = 32 #@param {type:\"slider\", min:8, max:64, step:8}\n",
        "sentences_dm = SentencesDataModule(\n",
        "    data_train_path=dataset_folder+'/train.jsonl',\n",
        "    data_dev_path=dataset_folder+'/dev.jsonl',\n",
        "    batch_size=BATCH_SIZE,\n",
        ")\n",
        "val_dataloader = sentences_dm.val_dataloader()\n",
        "# print(word_vectors['test'])\n",
        "\n",
        "for batch in val_dataloader:\n",
        "    X, y = batch\n",
        "    print(batch)\n",
        "    print(f\"batch X shape: {X.shape}\")\n",
        "    print(f\"batch z shape: {y.shape}\")\n",
        "    break"
      ],
      "execution_count": 17,
      "outputs": [
        {
          "output_type": "stream",
          "text": [
            "[tensor([[ 0.1268,  0.1932,  0.2785,  ...,  0.1149,  0.0938,  0.1672],\n",
            "        [ 0.0973,  0.1925,  0.2153,  ...,  0.0534,  0.0348,  0.0980],\n",
            "        [ 0.2088,  0.1467,  0.1315,  ...,  0.1893, -0.1479,  0.2397],\n",
            "        ...,\n",
            "        [ 0.1161,  0.2735,  0.1302,  ...,  0.2060, -0.0544,  0.1701],\n",
            "        [ 0.0340, -0.0131,  0.0375,  ...,  0.0378, -0.3205,  0.0692],\n",
            "        [-0.0230,  0.0147,  0.0157,  ...,  0.0244, -0.3265,  0.1453]]), tensor([0., 1., 0., 0., 1., 1., 1., 1., 1., 0., 1., 0., 1., 1., 1., 0., 0., 0.,\n",
            "        1., 0., 1., 0., 1., 1., 1., 1., 1., 1., 1., 1., 0., 0.])]\n",
            "batch X shape: torch.Size([32, 200])\n",
            "batch z shape: torch.Size([32])\n"
          ],
          "name": "stdout"
        }
      ]
    },
    {
      "cell_type": "markdown",
      "metadata": {
        "id": "8b45LYx6FZiD"
      },
      "source": [
        "### Training"
      ]
    },
    {
      "cell_type": "markdown",
      "metadata": {
        "id": "0P4wyI__EYdu"
      },
      "source": [
        "Create the classifier class"
      ]
    },
    {
      "cell_type": "code",
      "metadata": {
        "id": "AmfsdUysWYNl"
      },
      "source": [
        "class SentencesClassifier(nn.Module):\n",
        "\n",
        "    def __init__(self, n_features: int, n_hidden: int):\n",
        "        super().__init__()\n",
        "        # classification function\n",
        "        self.lin1 = torch.nn.Linear(n_features, n_hidden)\n",
        "        self.output_layer = torch.nn.Linear(n_hidden, 1)\n",
        "        \n",
        "        # criterion\n",
        "        self.loss_fn = torch.nn.BCELoss()\n",
        "        \n",
        "\n",
        "    def forward(self, x: torch.Tensor, y: Optional[torch.Tensor] = None) -> Dict[str, torch.Tensor]:\n",
        "        # actual forward\n",
        "        out = self.lin1(x)\n",
        "        out = torch.relu(out)\n",
        "        # compute logits (which are simply the out variable) and the actual probability distribution (pred, as it is the predicted distribution)\n",
        "    \n",
        "        logits = self.output_layer(out).squeeze(1)\n",
        "\n",
        "        out = torch.sigmoid(logits)\n",
        "\n",
        "        result = {'logits': logits, 'pred': out}\n",
        "\n",
        "        # compute loss\n",
        "        if y is not None:\n",
        "            # torch optimizes its computation internally and takes as input the logits instead\n",
        "            loss = self.loss(out, y)\n",
        "            result['loss'] = loss\n",
        "\n",
        "        return result\n",
        "\n",
        "    def loss(self, pred, y):\n",
        "        return self.loss_fn(pred, y)"
      ],
      "execution_count": 18,
      "outputs": []
    },
    {
      "cell_type": "markdown",
      "metadata": {
        "id": "DPmotA39E0Ds"
      },
      "source": [
        "Defining a trainer class to better separate our work."
      ]
    },
    {
      "cell_type": "code",
      "metadata": {
        "id": "u-D3B5zgbcKy"
      },
      "source": [
        "class Trainer():\n",
        "    def __init__(self, model, optimizer, device):\n",
        "\n",
        "        self.device = device\n",
        "\n",
        "        self.model = model\n",
        "        self.optimizer = optimizer\n",
        "        self.writer = SummaryWriter()\n",
        "        # starts requires_grad for all layers\n",
        "        self.model.train()  # we are using this model for training (some layers have different behaviours in train and eval mode)\n",
        "        self.model.to(self.device)  # move model to GPU if available\n",
        "\n",
        "    def train(self, train_dataset, eval_dataset, epochs=1):\n",
        "\n",
        "        train_loss = 0.0\n",
        "        for epoch in tqdm(range(epochs)):\n",
        "            epoch_loss = 0.0\n",
        "            len_train = 0\n",
        "            epoch_val_loss = 0.0\n",
        "            len_val_train = 0\n",
        "            accuracy = 0\n",
        "            f1 = 0\n",
        "            self.model.train()\n",
        "            # each element (sample) in train_dataset is a batch\n",
        "            for step, sample in enumerate(train_dataset):\n",
        "                # inputs in the batch\n",
        "                inputs = sample[0].to(self.device)\n",
        "                # outputs in the batch\n",
        "                targets = sample[1].to(self.device)\n",
        "                output_distribution = self.model(inputs)\n",
        "                loss = self.model.loss(output_distribution['pred'], targets)  # compute loss\n",
        "                # calculates the gradient and accumulates\n",
        "                loss.backward()  # we backpropagate the loss\n",
        "                # updates the parameters\n",
        "                self.optimizer.step()\n",
        "                self.optimizer.zero_grad()\n",
        "\n",
        "                epoch_loss += loss.item()\n",
        "                len_train += 1\n",
        "\n",
        "            self.model.eval()\n",
        "            for step, sample in enumerate(eval_dataset):\n",
        "                # inputs in the batch\n",
        "                inputs = sample[0].to(self.device)\n",
        "                # outputs in the batch\n",
        "                targets = sample[1].to(self.device)\n",
        "                output_distribution = self.model(inputs)\n",
        "                loss = self.model.loss(output_distribution['pred'], targets)  # compute loss    \n",
        "                y_pred = (output_distribution['pred']>0.5).float().cpu()\n",
        "                y_true = targets.cpu()\n",
        "                accuracy += accuracy_score(y_true, y_pred)\n",
        "                f1 += f1_score(y_true,y_pred)\n",
        "                #accuracy += ((output_distribution['pred'] > 0.5) == targets).float().mean().item() #TODO\n",
        "                epoch_val_loss += loss.item()\n",
        "                len_val_train += 1\n",
        "            \n",
        "            avg_epoch_loss = epoch_loss / len_train\n",
        "            avg_eval_loss = epoch_val_loss / len_val_train\n",
        "            avg_accuracy_loss = accuracy / len_val_train\n",
        "            avg_f1_score = f1/len_val_train\n",
        "            self.writer.add_scalar(\"Train/loss\", avg_epoch_loss, epoch)\n",
        "            self.writer.add_scalar(\"Eval/loss\", avg_eval_loss, epoch)\n",
        "            self.writer.add_scalar(\"Eval/accuracy\", avg_accuracy_loss, epoch)\n",
        "            self.writer.add_scalar(\"Eval/F1_score\", avg_f1_score, epoch)\n",
        "\n",
        "            print('Epoch: {} avg loss = {:0.4f} avg_eval_loss = {:0.4f} avg_eval_acc = {:0.4f} avg_eval_f1 = {:0.4f}'.format(epoch, avg_epoch_loss, avg_eval_loss, avg_accuracy_loss, avg_f1_score))\n",
        "\n",
        "            train_loss += avg_epoch_loss\n",
        "            \n",
        "        torch.save(self.model.state_dict(),os.path.join(root_folder +\"/model\", 'state_{}.pt'.format(epoch)))  # save the model state\n",
        "        self.writer.flush()\n",
        "        avg_epoch_loss = train_loss / epochs\n",
        "        return avg_epoch_loss"
      ],
      "execution_count": 22,
      "outputs": []
    },
    {
      "cell_type": "markdown",
      "metadata": {
        "id": "rkHNJ3n7JShv"
      },
      "source": [
        "Instanciating the classifier and tune some hyperparameters such as the number of hidden layers learning rate and number of epochs"
      ]
    },
    {
      "cell_type": "code",
      "metadata": {
        "id": "FbqT_pCjKUJE"
      },
      "source": [
        "sent_classifier = SentencesClassifier(\n",
        "    n_features=int(WE_LENGTH), \n",
        "    n_hidden=150 #@param {type:\"slider\", min:50, max:300, step:50}\n",
        ")\n",
        "learning_rate = 0.0391 #@param {type:\"slider\", min:0.0001, max:0.1, step:0.001}\n",
        "epochs = 200 #@param {type:\"slider\", min:50, max:300, step:10}"
      ],
      "execution_count": 25,
      "outputs": []
    },
    {
      "cell_type": "markdown",
      "metadata": {
        "id": "a9BoAWaXJsR4"
      },
      "source": [
        "Defining the optimizer, we will use Stochastic gradient descent and instanciating the trainer to start the train."
      ]
    },
    {
      "cell_type": "code",
      "metadata": {
        "id": "VsbMs2tYbxTv"
      },
      "source": [
        "device = 'cuda' if torch.cuda.is_available() else 'cpu'\n",
        "optimizer = torch.optim.SGD(sent_classifier.parameters(), lr=learning_rate)\n",
        "\n",
        "trainer = Trainer(sent_classifier, optimizer, device)\n",
        "\n",
        "train_dataloader = sentences_dm.train_dataloader()\n",
        "%load_ext tensorboard\n",
        "%tensorboard --logdir=runs\n",
        "avg_loss = trainer.train(train_dataloader,val_dataloader, epochs=epochs)\n",
        "print(avg_loss)"
      ],
      "execution_count": null,
      "outputs": []
    },
    {
      "cell_type": "markdown",
      "metadata": {
        "id": "cijah8M5QXXN"
      },
      "source": [
        "Method to run a prediction on a personal test phrase and see the prob of beeing of the same context"
      ]
    },
    {
      "cell_type": "code",
      "metadata": {
        "colab": {
          "base_uri": "https://localhost:8080/"
        },
        "id": "kxGcNR-cQXjP",
        "outputId": "a3a4e893-2101-417c-e212-62115209d1d6"
      },
      "source": [
        "def predict(model, phrase2vector, phrase: str, keyword: str):\n",
        "    phrase_vector = phrase2vector(phrase,METHOD,keyword).to('cuda' if torch.cuda.is_available() else 'cpu')\n",
        "    forward_out = model(phrase_vector.unsqueeze(0))  # add a dimension to create a one-item batch\n",
        "    print(f\"# Sentences: {phrase}\")\n",
        "    for i,prob in enumerate(forward_out[\"pred\"]):\n",
        "        print(\"\\n {}\".format( prob) )\n",
        "predict(sent_classifier, phrase2vector, \"The cat eats the mouse SEP Use the mouse to click on the button\", \"mouse\")\n",
        "predict(sent_classifier, phrase2vector, \"The cat eats the mouse SEP The mouse escaped from the predator\", \"mouse\")\n",
        "\n"
      ],
      "execution_count": 27,
      "outputs": [
        {
          "output_type": "stream",
          "text": [
            "# Sentences: The cat eats the mouse SEP Use the mouse to click on the button\n",
            "\n",
            " 0.9029295444488525\n",
            "# Sentences: The cat eats the mouse SEP The mouse escaped from the predator\n",
            "\n",
            " 0.9874212741851807\n"
          ],
          "name": "stdout"
        }
      ]
    },
    {
      "cell_type": "markdown",
      "metadata": {
        "id": "CRni2aJ-O_VY"
      },
      "source": [
        "#Second approach (sequence encoding with RNN)\n"
      ]
    },
    {
      "cell_type": "markdown",
      "metadata": {
        "id": "fL_KGqd_MkuA"
      },
      "source": [
        "Let's start by indexing each word in our vocabulary"
      ]
    },
    {
      "cell_type": "code",
      "metadata": {
        "id": "gqI-K3a5PBGA"
      },
      "source": [
        "word_index = dict()\n",
        "vectors_store = []\n",
        "\n",
        "# pad token, index = 0\n",
        "vectors_store.append(torch.rand(int(WE_LENGTH)))\n",
        "\n",
        "# unk token, index = 1\n",
        "vectors_store.append(torch.rand(int(WE_LENGTH)))\n",
        "\n",
        "for word, vector in word_vectors.items():\n",
        "    word_index[word] = len(vectors_store)\n",
        "    vectors_store.append(vector)\n",
        "\n",
        "word_index = defaultdict(lambda: 1, word_index)  # default dict returns 1 (unk token) when unknown word\n",
        "vectors_store = torch.stack(vectors_store)"
      ],
      "execution_count": 6,
      "outputs": []
    },
    {
      "cell_type": "code",
      "metadata": {
        "colab": {
          "base_uri": "https://localhost:8080/"
        },
        "id": "YQ6jMUGwfg-2",
        "outputId": "d121262a-b695-4c42-9685-e5303a6f5905"
      },
      "source": [
        "vocabulary_size, hidden_features = vectors_store.shape\n",
        "print(f\"Vocabulary size: {vocabulary_size}\")\n",
        "print(f\"Hidden features: {hidden_features}\")\n",
        "word_index['pezzo']  # let's see if the word_index gives to us the unk index (1)\n"
      ],
      "execution_count": 7,
      "outputs": [
        {
          "output_type": "stream",
          "text": [
            "Vocabulary size: 140003\n",
            "Hidden features: 200\n"
          ],
          "name": "stdout"
        },
        {
          "output_type": "execute_result",
          "data": {
            "text/plain": [
              "1"
            ]
          },
          "metadata": {
            "tags": []
          },
          "execution_count": 7
        }
      ]
    },
    {
      "cell_type": "code",
      "metadata": {
        "id": "JOKnbTicgFxH"
      },
      "source": [
        "def review2indices(review: str,method: str,keyword: str) -> torch.Tensor:\n",
        "    return torch.tensor([word_index[word] for word in review.split(' ')], dtype=torch.long)"
      ],
      "execution_count": 8,
      "outputs": []
    },
    {
      "cell_type": "code",
      "metadata": {
        "id": "nDx2QWAhhYsp"
      },
      "source": [
        "def rnn_collate_fn(\n",
        "    data_elements: List[Tuple[torch.Tensor, torch.Tensor]] # list of (x, y) pairs\n",
        ") -> Tuple[torch.Tensor, torch.Tensor, torch.Tensor]:\n",
        "\n",
        "    X = [de[0] for de in data_elements]  # list of index tensors\n",
        "\n",
        "    # to implement the many-to-one strategy\n",
        "    X_lengths = torch.tensor([x.size(0) for x in X], dtype=torch.long)\n",
        "\n",
        "    X = torch.nn.utils.rnn.pad_sequence(X, batch_first=True, padding_value=0)  #  shape (batch_size x max_seq_len)\n",
        "\n",
        "    y = [de[1] for de in data_elements]\n",
        "    y = torch.tensor(y)\n",
        "\n",
        "    return X, X_lengths, y"
      ],
      "execution_count": 9,
      "outputs": []
    },
    {
      "cell_type": "code",
      "metadata": {
        "id": "2NJyDXpahn7P"
      },
      "source": [
        "class SentencesRNNDataModule(nn.Module):\n",
        "\n",
        "    def __init__(\n",
        "        self, \n",
        "        data_train_path: str,\n",
        "        data_dev_path: str,\n",
        "        batch_size: int,\n",
        "        collate_fn=None\n",
        "    ) -> None:\n",
        "        super().__init__()\n",
        "        self.data_train_path = data_train_path\n",
        "        self.data_dev_path = data_dev_path\n",
        "        self.batch_size = batch_size\n",
        "        self.collate_fn = collate_fn\n",
        "\n",
        "        self.train_dataset = None\n",
        "        self.validation_dataset = None\n",
        "\n",
        "    def train_dataloader(self, *args, **kwargs) -> DataLoader:\n",
        "        self.train_dataset = SentencesDataset(self.data_train_path, review2indices)\n",
        "        return DataLoader(self.train_dataset, batch_size=self.batch_size, collate_fn=rnn_collate_fn)\n",
        "\n",
        "    def val_dataloader(self, *args, **kwargs) -> Union[DataLoader, List[DataLoader]]:\n",
        "        self.validation_dataset = SentencesDataset(self.data_dev_path, review2indices)\n",
        "        return DataLoader(self.validation_dataset, batch_size=self.batch_size, collate_fn=rnn_collate_fn)"
      ],
      "execution_count": 10,
      "outputs": []
    },
    {
      "cell_type": "code",
      "metadata": {
        "id": "ejkjswCVhtpz",
        "colab": {
          "base_uri": "https://localhost:8080/"
        },
        "outputId": "20564471-79f1-40a0-a330-abcb7733bea5"
      },
      "source": [
        "with open(dataset_folder+'/train.jsonl') as f:\n",
        "    for json_string in f:\n",
        "        single_json = json.loads(json_string)\n",
        "        keyword = single_json['sentence1'][int(single_json['start1']):int(single_json['end1'])]\n",
        "        sep = \" \" if USE_SEP == \"false\" else \" SEP \"\n",
        "        sentence =  single_json['sentence1'] + sep + single_json['sentence2']\n",
        "        ground_t = np.float32(1) if single_json['label'] =='True' else np.float32(0)\n",
        "        vector = review2indices(sentence,METHOD,keyword)\n",
        "        if vector is None:\n",
        "            continue\n",
        "        else:\n",
        "            print((sentence,vector, ground_t))\n",
        "        break\n",
        "sentences_rnn_dm = SentencesRNNDataModule(\n",
        "    data_train_path=dataset_folder+'/train.jsonl',\n",
        "    data_dev_path=dataset_folder+'/dev.jsonl',\n",
        "    batch_size=32\n",
        ")"
      ],
      "execution_count": 11,
      "outputs": [
        {
          "output_type": "stream",
          "text": [
            "('In that context of coordination and integration, Bolivia holds a key play in any process of infrastructure development. SEP A musical play on the same subject was also staged in Kathmandu for three days.', tensor([   1,   13, 4711,    4, 6410,    6,    1,    1, 2041,    8,  639,  283,\n",
            "           7,  131,  547,    4, 2952,    1,    1,    1, 2149,  283,   14,    1,\n",
            "         216, 1699,   16,   53, 4425,    7,    1,   11,   88,    1]), 0.0)\n"
          ],
          "name": "stdout"
        }
      ]
    },
    {
      "cell_type": "code",
      "metadata": {
        "colab": {
          "base_uri": "https://localhost:8080/"
        },
        "id": "V7ODza0Zh4oH",
        "outputId": "3c93f3c9-fbc9-4009-fab7-60ac8afd0c36"
      },
      "source": [
        "\n",
        "for batch in sentences_rnn_dm.val_dataloader():\n",
        "    batch_X, batch_X_lengths, batch_y = batch\n",
        "    print(batch_X)\n",
        "    print(batch_X.shape)\n",
        "    print(batch_y.shape)\n",
        "    break"
      ],
      "execution_count": 12,
      "outputs": [
        {
          "output_type": "stream",
          "text": [
            "tensor([[    1,  8195,   954,  ...,  9580,     1,     3],\n",
            "        [    1,  8195,   954,  ...,     0,     0,     0],\n",
            "        [    1, 19372,   249,  ...,     0,     0,     0],\n",
            "        ...,\n",
            "        [    1,   360,  2604,  ...,     0,     0,     0],\n",
            "        [    1,   750,  5518,  ...,     0,     0,     0],\n",
            "        [    1,   750,  5518,  ...,     0,     0,     0]])\n",
            "torch.Size([32, 44])\n",
            "torch.Size([32])\n"
          ],
          "name": "stdout"
        }
      ]
    },
    {
      "cell_type": "code",
      "metadata": {
        "id": "xI7M_zasi1ol"
      },
      "source": [
        "class SentencesRecurrentClassifier(nn.Module):\n",
        "\n",
        "    def __init__(\n",
        "        self,\n",
        "        vectors_store: torch.Tensor,\n",
        "        n_hidden: int\n",
        "    ) -> None:\n",
        "        super().__init__()\n",
        "\n",
        "        # embedding layer\n",
        "        self.embedding = torch.nn.Embedding.from_pretrained(vectors_store)\n",
        "\n",
        "        # recurrent layer\n",
        "        self.rnn = torch.nn.LSTM(input_size=vectors_store.size(1), hidden_size=n_hidden, num_layers=1, batch_first=True)\n",
        "\n",
        "        # classification head\n",
        "        self.lin1 = torch.nn.Linear(n_hidden, n_hidden)\n",
        "        self.lin2 = torch.nn.Linear(n_hidden, 1)\n",
        "\n",
        "        # criterion\n",
        "        self.loss_fn = torch.nn.BCELoss()\n",
        "        self.device = 'cuda'\n",
        "\n",
        "    def forward(\n",
        "        self, \n",
        "        X: torch.Tensor, \n",
        "        X_length: torch.Tensor, \n",
        "        y: Optional[torch.Tensor] = None\n",
        "    ) -> Dict[str, torch.Tensor]:\n",
        "\n",
        "        # embedding words from indices\n",
        "        embedding_out = self.embedding(X)\n",
        "\n",
        "        # recurrent encoding\n",
        "        recurrent_out = self.rnn(embedding_out)[0]\n",
        "        \n",
        "        # here we utilize the sequences length to retrieve the last token \n",
        "        # output for each sequence\n",
        "        batch_size, seq_len, hidden_size = recurrent_out.shape\n",
        "\n",
        "        # we flatten the recurrent output now I have a long sequence of batch x seq_len vectors \n",
        "        flattened_out = recurrent_out.reshape(-1, hidden_size)\n",
        "        \n",
        "        # and we use a simple trick to compute a tensor of the indices of the last token in each batch element\n",
        "        last_word_relative_indices = X_length - 1\n",
        "        # tensor of the start offsets of each element in the batch\n",
        "        sequences_offsets = torch.arange(batch_size, device=self.device) * seq_len\n",
        "        # e.g. (0, 5, 10, 15, ) + ( 3, 2, 1, 4 ) = ( 3, 7, 11, 19 )\n",
        "        summary_vectors_indices = sequences_offsets + last_word_relative_indices\n",
        "\n",
        "        # finaly we retrieve the vectors that should summarize every sentence.\n",
        "        # (i.e. the last token in the sequence)\n",
        "        summary_vectors = flattened_out[summary_vectors_indices]\n",
        "\n",
        "        # now we can classify the reviews with a feedforward pass on the summary\n",
        "        # vectors\n",
        "        out = self.lin1(summary_vectors)\n",
        "        out = torch.relu(out)\n",
        "        # compute logits (which are simply the out variable) and the actual probability distribution (pred, as it is the predicted distribution)\n",
        "        logits = self.lin2(out).squeeze(1)\n",
        "        \n",
        "        pred = torch.sigmoid(logits)\n",
        "\n",
        "        result = {'logits': logits, 'pred': pred}\n",
        "\n",
        "        # compute loss\n",
        "        if y is not None:\n",
        "            loss = self.loss(pred, y)\n",
        "            result['loss'] = loss\n",
        "\n",
        "        return result\n",
        "\n",
        "    def loss(self, pred, y):\n",
        "        return self.loss_fn(pred, y)"
      ],
      "execution_count": 13,
      "outputs": []
    },
    {
      "cell_type": "code",
      "metadata": {
        "id": "WzBUPzpQzic_"
      },
      "source": [
        "class Trainer():\n",
        "    def __init__(self, model, optimizer, device):\n",
        "\n",
        "        self.device = device\n",
        "\n",
        "        self.model = model\n",
        "        self.optimizer = optimizer\n",
        "\n",
        "        # starts requires_grad for all layers\n",
        "        self.model.train()  # we are using this model for training (some layers have different behaviours in train and eval mode)\n",
        "        self.model.to(self.device)  # move model to GPU if available\n",
        "\n",
        "    def train(self, train_dataset, eval_dataset, epochs=1):\n",
        "\n",
        "        train_loss = 0.0\n",
        "        for epoch in tqdm(range(epochs)):\n",
        "            epoch_loss = 0.0\n",
        "            len_train = 0\n",
        "            epoch_val_loss = 0.0\n",
        "            len_val_train = 0\n",
        "            accuracy = 0\n",
        "            self.model.train()\n",
        "            # each element (sample) in train_dataset is a batch\n",
        "            for step, sample in enumerate(train_dataset):\n",
        "                # inputs in the batch\n",
        "                inputs = sample[0].to(self.device)\n",
        "                x_lenghts = sample[1].to(self.device)\n",
        "                # outputs in the batch\n",
        "                targets = sample[2].to(self.device)\n",
        "                output_distribution = self.model(inputs, x_lenghts, targets)\n",
        "                loss = output_distribution['loss']#self.model.loss(output_distribution['pred'], targets)  # compute loss\n",
        "\n",
        "                # calculates the gradient and accumulates\n",
        "                loss.backward()  # we backpropagate the loss\n",
        "                # updates the parameters\n",
        "                self.optimizer.step()\n",
        "                self.optimizer.zero_grad()\n",
        "\n",
        "                epoch_loss += loss.item()\n",
        "                len_train += 1\n",
        "                \n",
        "            self.model.eval()\n",
        "            for step, sample in enumerate(eval_dataset):\n",
        "                # inputs in the batch\n",
        "                inputs = sample[0].to(self.device)\n",
        "                x_lenghts = sample[1].to(self.device)\n",
        "                # outputs in the batch\n",
        "                targets = sample[2].to(self.device)\n",
        "                output_distribution = self.model(inputs, x_lenghts)\n",
        "                loss = self.model.loss(output_distribution['pred'], targets)  # compute loss  \n",
        "                #print(output_distribution['pred'], targets)  \n",
        "                y_pred = (output_distribution['pred']>0.5).float().cpu()\n",
        "                y_true = targets.cpu()\n",
        "                accuracy += accuracy_score(y_true, y_pred)\n",
        "                epoch_val_loss += loss.item()\n",
        "                len_val_train += 1\n",
        "            \n",
        "            avg_epoch_loss = epoch_loss / len_train\n",
        "            avg_eval_loss = epoch_val_loss / len_val_train\n",
        "            avg_accuracy_loss = accuracy / len_val_train\n",
        "            print('Epoch: {} avg loss = {:0.4f} eval loss = {:0.4f} ACC = {:0.4f}'.format(epoch, avg_epoch_loss, avg_eval_loss, avg_accuracy_loss))\n",
        "            #print('Epoch: {} avg loss = {:0.4f}'.format(epoch, avg_epoch_loss))\n",
        "            train_loss += avg_epoch_loss\n",
        "            # torch.save(self.model.state_dict(),\n",
        "            #            os.path.join(output_folder, 'state_{}.pt'.format(epoch)))  # save the model state\n",
        "            \n",
        "        avg_epoch_loss = train_loss / epochs\n",
        "        return avg_epoch_loss"
      ],
      "execution_count": 22,
      "outputs": []
    },
    {
      "cell_type": "code",
      "metadata": {
        "id": "zmaXIR2DjtCg",
        "colab": {
          "base_uri": "https://localhost:8080/",
          "height": 0,
          "referenced_widgets": [
            "1c0b022bebc246d3b992dd2f1ce3a1d4",
            "ecb3b58cbdb949bf8c80884d1db94af6",
            "4563dff170fd4164b2dd02fde28653da",
            "743ce5f0d64e4695b381ebd328b0fab9",
            "3c2f24b525ac4a63a37a36ba7993b6bb",
            "488343ad66454a36ab1138f813337b83",
            "27067e3232384e71a3f98a3b2c62af76",
            "bda81f02a9ac4e2aabcc9ba44b4488f1"
          ]
        },
        "outputId": "0948d359-6659-4a0b-9f0e-e7b4c68274dc"
      },
      "source": [
        "sentences_recurrent_classifier = SentencesRecurrentClassifier(vectors_store, n_hidden=128)\n",
        "\n",
        "device = 'cuda' if torch.cuda.is_available() else 'cpu'\n",
        "optimizer = torch.optim.Adam(sentences_recurrent_classifier.parameters(), lr=0.0001)\n",
        "trainer = Trainer(sentences_recurrent_classifier, optimizer, device)\n",
        "\n",
        "\n",
        "train_dataloader = sentences_rnn_dm.train_dataloader()\n",
        "avg_loss = trainer.train(train_dataloader,sentences_rnn_dm.val_dataloader(), epochs=50)"
      ],
      "execution_count": 24,
      "outputs": [
        {
          "output_type": "display_data",
          "data": {
            "application/vnd.jupyter.widget-view+json": {
              "model_id": "1c0b022bebc246d3b992dd2f1ce3a1d4",
              "version_minor": 0,
              "version_major": 2
            },
            "text/plain": [
              "HBox(children=(FloatProgress(value=0.0, max=50.0), HTML(value='')))"
            ]
          },
          "metadata": {
            "tags": []
          }
        },
        {
          "output_type": "stream",
          "text": [
            "Epoch: 0 avg loss = 0.6941 eval loss = 0.6928 ACC = 0.5107\n",
            "Epoch: 1 avg loss = 0.6935 eval loss = 0.6927 ACC = 0.5400\n",
            "Epoch: 2 avg loss = 0.6931 eval loss = 0.6924 ACC = 0.5195\n",
            "Epoch: 3 avg loss = 0.6926 eval loss = 0.6918 ACC = 0.5244\n",
            "Epoch: 4 avg loss = 0.6917 eval loss = 0.6907 ACC = 0.5371\n",
            "Epoch: 5 avg loss = 0.6901 eval loss = 0.6893 ACC = 0.5391\n",
            "Epoch: 6 avg loss = 0.6878 eval loss = 0.6882 ACC = 0.5381\n",
            "Epoch: 7 avg loss = 0.6851 eval loss = 0.6876 ACC = 0.5498\n",
            "Epoch: 8 avg loss = 0.6819 eval loss = 0.6878 ACC = 0.5430\n",
            "Epoch: 9 avg loss = 0.6779 eval loss = 0.6887 ACC = 0.5479\n",
            "Epoch: 10 avg loss = 0.6728 eval loss = 0.6905 ACC = 0.5322\n",
            "Epoch: 11 avg loss = 0.6665 eval loss = 0.6928 ACC = 0.5371\n",
            "Epoch: 12 avg loss = 0.6584 eval loss = 0.6955 ACC = 0.5283\n",
            "Epoch: 13 avg loss = 0.6487 eval loss = 0.7005 ACC = 0.5273\n",
            "Epoch: 14 avg loss = 0.6376 eval loss = 0.7072 ACC = 0.5254\n",
            "Epoch: 15 avg loss = 0.6250 eval loss = 0.7165 ACC = 0.5234\n",
            "Epoch: 16 avg loss = 0.6102 eval loss = 0.7265 ACC = 0.5176\n",
            "Epoch: 17 avg loss = 0.5963 eval loss = 0.7427 ACC = 0.5166\n",
            "Epoch: 18 avg loss = 0.5825 eval loss = 0.7559 ACC = 0.5156\n",
            "Epoch: 19 avg loss = 0.5646 eval loss = 0.7712 ACC = 0.5107\n",
            "Epoch: 20 avg loss = 0.5443 eval loss = 0.7869 ACC = 0.5117\n",
            "Epoch: 21 avg loss = 0.5221 eval loss = 0.8148 ACC = 0.5078\n",
            "Epoch: 22 avg loss = 0.4974 eval loss = 0.8369 ACC = 0.4971\n",
            "Epoch: 23 avg loss = 0.4767 eval loss = 0.8706 ACC = 0.5020\n",
            "Epoch: 24 avg loss = 0.4481 eval loss = 0.8971 ACC = 0.4941\n",
            "Epoch: 25 avg loss = 0.4296 eval loss = 0.9323 ACC = 0.5000\n",
            "Epoch: 26 avg loss = 0.4030 eval loss = 0.9889 ACC = 0.4961\n",
            "Epoch: 27 avg loss = 0.3840 eval loss = 1.0141 ACC = 0.4951\n",
            "Epoch: 28 avg loss = 0.3598 eval loss = 1.0742 ACC = 0.4883\n",
            "Epoch: 29 avg loss = 0.3409 eval loss = 1.1383 ACC = 0.4834\n",
            "Epoch: 30 avg loss = 0.3102 eval loss = 1.3153 ACC = 0.4941\n",
            "Epoch: 31 avg loss = 0.2943 eval loss = 1.3967 ACC = 0.4893\n",
            "Epoch: 32 avg loss = 0.2788 eval loss = 1.6268 ACC = 0.4893\n",
            "Epoch: 33 avg loss = 0.2595 eval loss = 1.8460 ACC = 0.4922\n",
            "Epoch: 34 avg loss = 0.2404 eval loss = 2.0899 ACC = 0.4961\n",
            "Epoch: 35 avg loss = 0.2267 eval loss = 2.3262 ACC = 0.5127\n",
            "Epoch: 36 avg loss = 0.2132 eval loss = 2.2549 ACC = 0.5098\n",
            "Epoch: 37 avg loss = 0.2027 eval loss = 2.0510 ACC = 0.4912\n",
            "Epoch: 38 avg loss = 0.1987 eval loss = 2.7763 ACC = 0.5029\n",
            "Epoch: 39 avg loss = 0.1788 eval loss = 2.9425 ACC = 0.4961\n",
            "Epoch: 40 avg loss = 0.1747 eval loss = 2.8128 ACC = 0.4893\n",
            "Epoch: 41 avg loss = 0.1724 eval loss = 3.5616 ACC = 0.5020\n",
            "Epoch: 42 avg loss = 0.1641 eval loss = 3.4234 ACC = 0.4980\n",
            "Epoch: 43 avg loss = 0.1659 eval loss = 3.0617 ACC = 0.4980\n",
            "Epoch: 44 avg loss = 0.1499 eval loss = 3.7919 ACC = 0.4893\n",
            "Epoch: 45 avg loss = 0.1400 eval loss = 3.4968 ACC = 0.4980\n",
            "Epoch: 46 avg loss = 0.1301 eval loss = 4.4824 ACC = 0.4922\n",
            "Epoch: 47 avg loss = 0.1217 eval loss = 4.1059 ACC = 0.4814\n",
            "Epoch: 48 avg loss = 0.1069 eval loss = 4.9240 ACC = 0.4873\n",
            "Epoch: 49 avg loss = 0.1070 eval loss = 5.0375 ACC = 0.4902\n",
            "\n"
          ],
          "name": "stdout"
        }
      ]
    }
  ]
}