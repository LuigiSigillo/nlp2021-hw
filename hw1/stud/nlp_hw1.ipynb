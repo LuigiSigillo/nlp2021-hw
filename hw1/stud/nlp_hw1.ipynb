{
  "nbformat": 4,
  "nbformat_minor": 0,
  "metadata": {
    "colab": {
      "name": "Copia di nlp_hw1.ipynb",
      "provenance": [],
      "collapsed_sections": [
        "0y_g6ETA_lf3",
        "8b45LYx6FZiD"
      ],
      "include_colab_link": true
    },
    "kernelspec": {
      "name": "python3",
      "display_name": "Python 3"
    },
    "language_info": {
      "name": "python"
    },
    "accelerator": "GPU",
    "widgets": {
      "application/vnd.jupyter.widget-state+json": {
        "6a9da0a887f24a638aea97624f7fa4f9": {
          "model_module": "@jupyter-widgets/controls",
          "model_name": "HBoxModel",
          "state": {
            "_view_name": "HBoxView",
            "_dom_classes": [],
            "_model_name": "HBoxModel",
            "_view_module": "@jupyter-widgets/controls",
            "_model_module_version": "1.5.0",
            "_view_count": null,
            "_view_module_version": "1.5.0",
            "box_style": "",
            "layout": "IPY_MODEL_81228d3c92da4cff86a753160b0b80a4",
            "_model_module": "@jupyter-widgets/controls",
            "children": [
              "IPY_MODEL_236a69efcdf34c888e3e49e84e07bae9",
              "IPY_MODEL_c5da5213c9844443ade5bc0b5ce0d2a0"
            ]
          }
        },
        "81228d3c92da4cff86a753160b0b80a4": {
          "model_module": "@jupyter-widgets/base",
          "model_name": "LayoutModel",
          "state": {
            "_view_name": "LayoutView",
            "grid_template_rows": null,
            "right": null,
            "justify_content": null,
            "_view_module": "@jupyter-widgets/base",
            "overflow": null,
            "_model_module_version": "1.2.0",
            "_view_count": null,
            "flex_flow": null,
            "width": null,
            "min_width": null,
            "border": null,
            "align_items": null,
            "bottom": null,
            "_model_module": "@jupyter-widgets/base",
            "top": null,
            "grid_column": null,
            "overflow_y": null,
            "overflow_x": null,
            "grid_auto_flow": null,
            "grid_area": null,
            "grid_template_columns": null,
            "flex": null,
            "_model_name": "LayoutModel",
            "justify_items": null,
            "grid_row": null,
            "max_height": null,
            "align_content": null,
            "visibility": null,
            "align_self": null,
            "height": null,
            "min_height": null,
            "padding": null,
            "grid_auto_rows": null,
            "grid_gap": null,
            "max_width": null,
            "order": null,
            "_view_module_version": "1.2.0",
            "grid_template_areas": null,
            "object_position": null,
            "object_fit": null,
            "grid_auto_columns": null,
            "margin": null,
            "display": null,
            "left": null
          }
        },
        "236a69efcdf34c888e3e49e84e07bae9": {
          "model_module": "@jupyter-widgets/controls",
          "model_name": "FloatProgressModel",
          "state": {
            "_view_name": "ProgressView",
            "style": "IPY_MODEL_f7befa7656ce4b19b2f70918b90946cc",
            "_dom_classes": [],
            "description": "100%",
            "_model_name": "FloatProgressModel",
            "bar_style": "success",
            "max": 25,
            "_view_module": "@jupyter-widgets/controls",
            "_model_module_version": "1.5.0",
            "value": 25,
            "_view_count": null,
            "_view_module_version": "1.5.0",
            "orientation": "horizontal",
            "min": 0,
            "description_tooltip": null,
            "_model_module": "@jupyter-widgets/controls",
            "layout": "IPY_MODEL_4a4f2702838444f38f42c4ecf4b1ace6"
          }
        },
        "c5da5213c9844443ade5bc0b5ce0d2a0": {
          "model_module": "@jupyter-widgets/controls",
          "model_name": "HTMLModel",
          "state": {
            "_view_name": "HTMLView",
            "style": "IPY_MODEL_649b296413894db1b52eede2244c3ba8",
            "_dom_classes": [],
            "description": "",
            "_model_name": "HTMLModel",
            "placeholder": "​",
            "_view_module": "@jupyter-widgets/controls",
            "_model_module_version": "1.5.0",
            "value": " 25/25 [01:20&lt;00:00,  3.23s/it]",
            "_view_count": null,
            "_view_module_version": "1.5.0",
            "description_tooltip": null,
            "_model_module": "@jupyter-widgets/controls",
            "layout": "IPY_MODEL_d6cd702da2c248169d36ec12427c86bf"
          }
        },
        "f7befa7656ce4b19b2f70918b90946cc": {
          "model_module": "@jupyter-widgets/controls",
          "model_name": "ProgressStyleModel",
          "state": {
            "_view_name": "StyleView",
            "_model_name": "ProgressStyleModel",
            "description_width": "initial",
            "_view_module": "@jupyter-widgets/base",
            "_model_module_version": "1.5.0",
            "_view_count": null,
            "_view_module_version": "1.2.0",
            "bar_color": null,
            "_model_module": "@jupyter-widgets/controls"
          }
        },
        "4a4f2702838444f38f42c4ecf4b1ace6": {
          "model_module": "@jupyter-widgets/base",
          "model_name": "LayoutModel",
          "state": {
            "_view_name": "LayoutView",
            "grid_template_rows": null,
            "right": null,
            "justify_content": null,
            "_view_module": "@jupyter-widgets/base",
            "overflow": null,
            "_model_module_version": "1.2.0",
            "_view_count": null,
            "flex_flow": null,
            "width": null,
            "min_width": null,
            "border": null,
            "align_items": null,
            "bottom": null,
            "_model_module": "@jupyter-widgets/base",
            "top": null,
            "grid_column": null,
            "overflow_y": null,
            "overflow_x": null,
            "grid_auto_flow": null,
            "grid_area": null,
            "grid_template_columns": null,
            "flex": null,
            "_model_name": "LayoutModel",
            "justify_items": null,
            "grid_row": null,
            "max_height": null,
            "align_content": null,
            "visibility": null,
            "align_self": null,
            "height": null,
            "min_height": null,
            "padding": null,
            "grid_auto_rows": null,
            "grid_gap": null,
            "max_width": null,
            "order": null,
            "_view_module_version": "1.2.0",
            "grid_template_areas": null,
            "object_position": null,
            "object_fit": null,
            "grid_auto_columns": null,
            "margin": null,
            "display": null,
            "left": null
          }
        },
        "649b296413894db1b52eede2244c3ba8": {
          "model_module": "@jupyter-widgets/controls",
          "model_name": "DescriptionStyleModel",
          "state": {
            "_view_name": "StyleView",
            "_model_name": "DescriptionStyleModel",
            "description_width": "",
            "_view_module": "@jupyter-widgets/base",
            "_model_module_version": "1.5.0",
            "_view_count": null,
            "_view_module_version": "1.2.0",
            "_model_module": "@jupyter-widgets/controls"
          }
        },
        "d6cd702da2c248169d36ec12427c86bf": {
          "model_module": "@jupyter-widgets/base",
          "model_name": "LayoutModel",
          "state": {
            "_view_name": "LayoutView",
            "grid_template_rows": null,
            "right": null,
            "justify_content": null,
            "_view_module": "@jupyter-widgets/base",
            "overflow": null,
            "_model_module_version": "1.2.0",
            "_view_count": null,
            "flex_flow": null,
            "width": null,
            "min_width": null,
            "border": null,
            "align_items": null,
            "bottom": null,
            "_model_module": "@jupyter-widgets/base",
            "top": null,
            "grid_column": null,
            "overflow_y": null,
            "overflow_x": null,
            "grid_auto_flow": null,
            "grid_area": null,
            "grid_template_columns": null,
            "flex": null,
            "_model_name": "LayoutModel",
            "justify_items": null,
            "grid_row": null,
            "max_height": null,
            "align_content": null,
            "visibility": null,
            "align_self": null,
            "height": null,
            "min_height": null,
            "padding": null,
            "grid_auto_rows": null,
            "grid_gap": null,
            "max_width": null,
            "order": null,
            "_view_module_version": "1.2.0",
            "grid_template_areas": null,
            "object_position": null,
            "object_fit": null,
            "grid_auto_columns": null,
            "margin": null,
            "display": null,
            "left": null
          }
        }
      }
    }
  },
  "cells": [
    {
      "cell_type": "markdown",
      "metadata": {
        "id": "view-in-github",
        "colab_type": "text"
      },
      "source": [
        "<a href=\"https://colab.research.google.com/github/LuigiSigillo/nlp2021-hw/blob/master/hw1/stud/nlp_hw1.ipynb\" target=\"_parent\"><img src=\"https://colab.research.google.com/assets/colab-badge.svg\" alt=\"Open In Colab\"/></a>"
      ]
    },
    {
      "cell_type": "markdown",
      "metadata": {
        "id": "qU-26r3m8IRE"
      },
      "source": [
        "# Initial setup for both methodologies"
      ]
    },
    {
      "cell_type": "markdown",
      "metadata": {
        "id": "DyM39Hb89WdF"
      },
      "source": [
        "## Imports"
      ]
    },
    {
      "cell_type": "code",
      "metadata": {
        "id": "Q2n5xn1F5kvq",
        "colab": {
          "base_uri": "https://localhost:8080/"
        },
        "outputId": "27452032-b540-45cb-d9d1-98584cb1602c"
      },
      "source": [
        "from google.colab import drive\n",
        "# general\n",
        "import matplotlib.pyplot as plt\n",
        "import numpy as np\n",
        "import os\n",
        "from collections import Counter, defaultdict\n",
        "from tqdm.notebook import tqdm\n",
        "from typing import *\n",
        "import string\n",
        "import json\n",
        "\n",
        "# torch\n",
        "import torch\n",
        "from torch import nn\n",
        "from torch.utils.data import Dataset, DataLoader\n",
        "from torch.optim import SGD\n",
        "from torch.nn import functional as F\n",
        "from torch.utils.tensorboard import SummaryWriter\n",
        "\n",
        "# NLTK\n",
        "from nltk.corpus import stopwords\n",
        "from nltk.tokenize import word_tokenize\n",
        "import nltk\n",
        "nltk.download('stopwords')\n",
        "nltk.download('punkt')\n",
        "\n",
        "\n",
        "# SKLEARN\n",
        "from sklearn.metrics import accuracy_score\n",
        "from sklearn.metrics import f1_score\n",
        "\n",
        "drive.mount('/content/drive')\n",
        "root_folder = '/content/drive/My Drive/NLP/nlp2021-hw1'\n",
        "dataset_folder = os.path.join(root_folder,'data')\n",
        "\n",
        "''' code to download and move the glove embeddings in the right folder '''\n",
        "#! wget http://nlp.stanford.edu/data/wordvecs/glove.6B.zip\n",
        "#! unzip -d data/glove.6B\n",
        "#! cd '/content/drive/My Drive/NLP/nlp2021-hw1'\n",
        "#!unzip '/content/drive/My Drive/NLP/nlp2021-hw1/glove.6B.zip'\n",
        "# !mv glove.6B.200d.txt '/content/drive/My Drive/NLP/nlp2021-hw1/model'\n",
        "# !ls \"{root_folder}/model/\"\n",
        "!nvidia-smi"
      ],
      "execution_count": 33,
      "outputs": [
        {
          "output_type": "stream",
          "text": [
            "[nltk_data] Downloading package stopwords to /root/nltk_data...\n",
            "[nltk_data]   Package stopwords is already up-to-date!\n",
            "[nltk_data] Downloading package punkt to /root/nltk_data...\n",
            "[nltk_data]   Package punkt is already up-to-date!\n",
            "Drive already mounted at /content/drive; to attempt to forcibly remount, call drive.mount(\"/content/drive\", force_remount=True).\n",
            "Fri Apr 23 15:05:05 2021       \n",
            "+-----------------------------------------------------------------------------+\n",
            "| NVIDIA-SMI 465.19.01    Driver Version: 460.32.03    CUDA Version: 11.2     |\n",
            "|-------------------------------+----------------------+----------------------+\n",
            "| GPU  Name        Persistence-M| Bus-Id        Disp.A | Volatile Uncorr. ECC |\n",
            "| Fan  Temp  Perf  Pwr:Usage/Cap|         Memory-Usage | GPU-Util  Compute M. |\n",
            "|                               |                      |               MIG M. |\n",
            "|===============================+======================+======================|\n",
            "|   0  Tesla T4            Off  | 00000000:00:04.0 Off |                    0 |\n",
            "| N/A   68C    P0    32W /  70W |   1202MiB / 15109MiB |      0%      Default |\n",
            "|                               |                      |                  N/A |\n",
            "+-------------------------------+----------------------+----------------------+\n",
            "                                                                               \n",
            "+-----------------------------------------------------------------------------+\n",
            "| Processes:                                                                  |\n",
            "|  GPU   GI   CI        PID   Type   Process name                  GPU Memory |\n",
            "|        ID   ID                                                   Usage      |\n",
            "|=============================================================================|\n",
            "+-----------------------------------------------------------------------------+\n"
          ],
          "name": "stdout"
        }
      ]
    },
    {
      "cell_type": "code",
      "metadata": {
        "id": "FqmOAYIa_elL"
      },
      "source": [
        "#@title Setup of parameters{ run: \"auto\" }\n",
        "WE_LENGTH = \"100\" #@param [50,100,200,300]\n",
        "METHOD = \"avg\" #@param [\"avg\",\"sum\",\"weigthed_avg\"]\n",
        "USE_SEP = True #@param [\"True\", \"False\"] {type:\"raw\"}\n",
        "WORDS_LIMIT = 140000 #@param {type:\"slider\", min:20000, max:200000, step:20000}\n",
        "\n",
        "\n",
        "torch.manual_seed(42)\n",
        "np.random.seed(42)\n"
      ],
      "execution_count": 34,
      "outputs": []
    },
    {
      "cell_type": "markdown",
      "metadata": {
        "id": "anwpXc08XRKf"
      },
      "source": [
        "##GloVe word embeddings"
      ]
    },
    {
      "cell_type": "markdown",
      "metadata": {
        "id": "pgljP56n-Wgm"
      },
      "source": [
        "Added to the dictionary also the \"UNK\" and \"SEP\" words using a random vector"
      ]
    },
    {
      "cell_type": "code",
      "metadata": {
        "id": "Te3_zheKQQDe"
      },
      "source": [
        "class GloVEEmbedding():\n",
        "\n",
        "    def __init__(self):\n",
        "        self.word_vectors = dict()\n",
        "\n",
        "\n",
        "    def get_word_vectors(self):\n",
        "        with open(root_folder+'/model/glove.6B.'+WE_LENGTH+'d.txt') as f:\n",
        "            next(f)  # skip header\n",
        "            for i, line in tqdm(enumerate(f), total=WORDS_LIMIT):\n",
        "                if i == WORDS_LIMIT:\n",
        "                    break\n",
        "                word, *vector = line.strip().split(' ')\n",
        "                vector = torch.tensor([float(c) for c in vector])\n",
        "                \n",
        "                self.word_vectors[word] = vector\n",
        "\n",
        "        self.word_vectors[\"UNK\"] = torch.tensor(np.random.random(int(WE_LENGTH)),dtype=torch.float)\n",
        "\n",
        "        if USE_SEP:\n",
        "            self.word_vectors[\"SEP\"] = torch.tensor(np.random.random(int(WE_LENGTH)),dtype=torch.float)\n",
        "        return self.word_vectors"
      ],
      "execution_count": 35,
      "outputs": []
    },
    {
      "cell_type": "markdown",
      "metadata": {
        "id": "mkMP7JR-DGfB"
      },
      "source": [
        "## Dataset class and interfaces"
      ]
    },
    {
      "cell_type": "code",
      "metadata": {
        "id": "ti80ryeyXUXT"
      },
      "source": [
        "class SentencesDataset(torch.utils.data.Dataset):\n",
        "\n",
        "    def __init__(self, dataset_path: str, phrase2vector):\n",
        "        self.data_store = []\n",
        "        self.init_structures(dataset_path, phrase2vector)\n",
        "\n",
        "    def init_structures(self, dataset_path: str, phrase2vector) -> None:\n",
        "\n",
        "        with open(dataset_path) as f:\n",
        "            for json_string in f:\n",
        "                single_json = json.loads(json_string)\n",
        "\n",
        "                keyword = single_json['sentence1'][int(single_json['start1']):int(single_json['end1'])]\n",
        "                keyword2 = single_json['sentence2'][int(single_json['start2']):int(single_json['end2'])]\n",
        "                lemma = single_json['lemma']\n",
        "\n",
        "                sep = \" \" if not USE_SEP else \" SEP \"\n",
        "                lemmatized1 = self.use_only_lemma(single_json['sentence1'],lemma,keyword)\n",
        "                lemmatized2 = self.use_only_lemma(single_json['sentence2'],lemma,keyword2)\n",
        "\n",
        "                sentence =  self.remove_stopwords(lemmatized1) + sep + self.remove_stopwords(lemmatized2)\n",
        "                \n",
        "                indices = self.get_kwd_indices(sentence,[keyword,keyword2,lemma])\n",
        "                ground_t = np.float32(1) if single_json['label'] =='True' else np.float32(0)\n",
        "\n",
        "                vector = phrase2vector(sentence,METHOD,keyword)\n",
        "                \n",
        "                if vector is None or len(indices)!=3:\n",
        "                    #print(sentence,indices)\n",
        "                    continue\n",
        "                    \n",
        "                self.data_store.append((vector,ground_t,indices))\n",
        "\n",
        "    def remove_stopwords(self,sent):\n",
        "        stop_words = set(stopwords.words('english'))\n",
        "        # remove punkt\n",
        "        translator = str.maketrans(string.punctuation, ' '*len(string.punctuation)) \n",
        "        word_tokens = word_tokenize(sent.translate(translator)) \n",
        "        \n",
        "        filtered_sentence = [w for w in word_tokens if not w.lower() in stop_words]\n",
        "        return \" \".join(filtered_sentence)\n",
        "\n",
        "    def use_only_lemma(self,sent,lemma, keyword):\n",
        "        filtered_sentence = [w if not w == keyword else lemma for w in sent.split(\" \") ]\n",
        "        return \" \".join(filtered_sentence)\n",
        "\n",
        "    \n",
        "    def get_kwd_indices(self,sentence,keywords):\n",
        "        i = 0\n",
        "        j = []\n",
        "        sec = False\n",
        "        sentence_list = sentence.split(\" \")\n",
        "        while i < len(sentence_list):\n",
        "            if sentence_list[i] == \"SEP\":\n",
        "                sec = True\n",
        "                j.append(i)\n",
        "            if sentence_list[i] in keywords:\n",
        "                if j == []:\n",
        "                    j.append(i)\n",
        "                elif sec:\n",
        "                    j.append(i)\n",
        "                    return j\n",
        "            i += 1\n",
        "        return j\n",
        "            \n",
        "    def __len__(self) -> int:\n",
        "        return len(self.data_store)\n",
        "\n",
        "    def __getitem__(self, idx: int) -> torch.Tensor:\n",
        "        return self.data_store[idx]"
      ],
      "execution_count": 36,
      "outputs": []
    },
    {
      "cell_type": "code",
      "metadata": {
        "id": "v8K2TtSOXY13"
      },
      "source": [
        "class SentencesDataModule(nn.Module):\n",
        "\n",
        "    def __init__(\n",
        "        self, \n",
        "        data_train_path: str,\n",
        "        data_dev_path: str,\n",
        "        batch_size: int,\n",
        "        vectorize_function: Callable,\n",
        "        collate_fn=None\n",
        "    ) -> None:\n",
        "        super().__init__()\n",
        "        self.data_train_path = data_train_path\n",
        "        self.data_dev_path = data_dev_path\n",
        "        self.batch_size = batch_size\n",
        "        self.collate_fn = collate_fn\n",
        "        self.vectorize_function = vectorize_function\n",
        "\n",
        "        self.train_dataset = None\n",
        "        self.validation_dataset = None\n",
        "\n",
        "    def train_dataloader(self, *args, **kwargs) -> DataLoader:\n",
        "        self.train_dataset = SentencesDataset(self.data_train_path, self.vectorize_function)\n",
        "        return DataLoader(self.train_dataset, batch_size=self.batch_size, collate_fn=self.collate_fn)\n",
        "\n",
        "    def val_dataloader(self, *args, **kwargs) -> Union[DataLoader, List[DataLoader]]:\n",
        "        self.validation_dataset = SentencesDataset(self.data_dev_path, self.vectorize_function)\n",
        "        return DataLoader(self.validation_dataset, batch_size=self.batch_size,collate_fn=self.collate_fn)\n"
      ],
      "execution_count": 37,
      "outputs": []
    },
    {
      "cell_type": "markdown",
      "metadata": {
        "id": "0y_g6ETA_lf3"
      },
      "source": [
        "# First approach **(word-level)**\n"
      ]
    },
    {
      "cell_type": "markdown",
      "metadata": {
        "id": "wKed-2p_XsMH"
      },
      "source": [
        "Word-embedding-powered function $\\phi$. Converts sentences to a vector by averaging the embeddings corresponding to each word in it"
      ]
    },
    {
      "cell_type": "code",
      "metadata": {
        "id": "kpsIPHyUV6Lt"
      },
      "source": [
        "def phrase2vector(phrase: str, method: str, keyword: str) -> Optional[torch.Tensor]:\n",
        "    phrases_word_vector = []\n",
        "    if method == \"avg\":\n",
        "        phrases_word_vector = [word_vectors[w] if w in word_vectors else word_vectors['UNK'] for w in phrase.split(' ')]\n",
        "    elif method ==\"weigthed_avg\":\n",
        "        for w in phrase.split(' '):\n",
        "            coeff = 1\n",
        "            if w in word_vectors:\n",
        "                if w == keyword:\n",
        "                    coeff = 1.5\n",
        "                phrases_word_vector.append(word_vectors[w]*coeff)\n",
        "            else:\n",
        "                phrases_word_vector.append(word_vectors['UNK'])\n",
        "    if len(phrases_word_vector) == 0:\n",
        "        return None\n",
        "\n",
        "    phrases_word_vector = torch.stack(phrases_word_vector)  # tensor shape: (#words X #features)\n",
        "    if method==\"sum\":\n",
        "        return torch.sum(phrases_word_vector, dim=0)\n",
        "    else:\n",
        "        return torch.mean(phrases_word_vector, dim=0)"
      ],
      "execution_count": null,
      "outputs": []
    },
    {
      "cell_type": "markdown",
      "metadata": {
        "id": "ELkIYmAwDTft"
      },
      "source": [
        "Loading and testing of the dataset"
      ]
    },
    {
      "cell_type": "code",
      "metadata": {
        "id": "xwuHz1kdXryl"
      },
      "source": [
        "BATCH_SIZE = 16 #@param {type:\"slider\", min:8, max:64, step:8}\n",
        "\n",
        "glove_embed = GloVEEmbedding()\n",
        "word_vectors = glove_embed.get_word_vectors()\n",
        "\n",
        "sentences_dm = SentencesDataModule(\n",
        "    data_train_path=dataset_folder+'/train.jsonl',\n",
        "    data_dev_path=dataset_folder+'/dev.jsonl',\n",
        "    batch_size=BATCH_SIZE,\n",
        "    vectorize_function = phrase2vector\n",
        ")\n",
        "\n",
        "val_dataloader = sentences_dm.val_dataloader()\n",
        "\n",
        "for batch in val_dataloader:\n",
        "    X, y, z  = batch\n",
        "    print(batch)\n",
        "    print(f\"batch X shape: {X.shape}\")\n",
        "    print(f\"batch z shape: {y.shape}\")\n",
        "    break"
      ],
      "execution_count": null,
      "outputs": []
    },
    {
      "cell_type": "markdown",
      "metadata": {
        "id": "0P4wyI__EYdu"
      },
      "source": [
        "Create the classifier class"
      ]
    },
    {
      "cell_type": "code",
      "metadata": {
        "id": "AmfsdUysWYNl"
      },
      "source": [
        "class SentencesClassifier(nn.Module):\n",
        "\n",
        "    def __init__(self, n_features: int, n_hidden: int):\n",
        "        super().__init__()\n",
        "        # classification function\n",
        "        self.lin1 = torch.nn.Linear(n_features, n_hidden)\n",
        "        self.output_layer = torch.nn.Linear(n_hidden, 1)\n",
        "        \n",
        "        # criterion\n",
        "        self.loss_fn = torch.nn.BCELoss()\n",
        "        \n",
        "\n",
        "    def forward(self, x: torch.Tensor, y: Optional[torch.Tensor] = None) -> Dict[str, torch.Tensor]:\n",
        "        # actual forward\n",
        "        out = self.lin1(x)\n",
        "        out = torch.relu(out)\n",
        "        # compute logits (which are simply the out variable) and the actual probability distribution (pred, as it is the predicted distribution)\n",
        "    \n",
        "        logits = self.output_layer(out).squeeze(1)\n",
        "\n",
        "        out = torch.sigmoid(logits)\n",
        "\n",
        "        result = {'logits': logits, 'pred': out}\n",
        "\n",
        "        # compute loss\n",
        "        if y is not None:\n",
        "            # torch optimizes its computation internally and takes as input the logits instead\n",
        "            loss = self.loss(out, y)\n",
        "            result['loss'] = loss\n",
        "\n",
        "        return result\n",
        "\n",
        "    def loss(self, pred, y):\n",
        "        return self.loss_fn(pred, y)"
      ],
      "execution_count": null,
      "outputs": []
    },
    {
      "cell_type": "markdown",
      "metadata": {
        "id": "8b45LYx6FZiD"
      },
      "source": [
        "### Training"
      ]
    },
    {
      "cell_type": "markdown",
      "metadata": {
        "id": "DPmotA39E0Ds"
      },
      "source": [
        "Defining a trainer class to better separate our work."
      ]
    },
    {
      "cell_type": "code",
      "metadata": {
        "id": "u-D3B5zgbcKy"
      },
      "source": [
        "class Trainer():\n",
        "    def __init__(self, model, optimizer, device):\n",
        "\n",
        "        self.device = device\n",
        "\n",
        "        self.model = model\n",
        "        self.optimizer = optimizer\n",
        "        self.writer = SummaryWriter()\n",
        "        # starts requires_grad for all layers\n",
        "        self.model.train()  # we are using this model for training (some layers have different behaviours in train and eval mode)\n",
        "        self.model.to(self.device)  # move model to GPU if available\n",
        "\n",
        "    def train(self, train_dataset, eval_dataset, epochs=1):\n",
        "\n",
        "        train_loss = 0.0\n",
        "        for epoch in tqdm(range(epochs)):\n",
        "            epoch_loss = 0.0\n",
        "            len_train = 0\n",
        "            epoch_val_loss = 0.0\n",
        "            len_val_train = 0\n",
        "            accuracy = 0\n",
        "            f1 = 0\n",
        "            self.model.train()\n",
        "            # each element (sample) in train_dataset is a batch\n",
        "            for step, sample in enumerate(train_dataset):\n",
        "                # inputs in the batch\n",
        "                inputs = sample[0].to(self.device)\n",
        "                # outputs in the batch\n",
        "                targets = sample[1].to(self.device)\n",
        "                output_distribution = self.model(inputs)\n",
        "                loss = self.model.loss(output_distribution['pred'], targets)  # compute loss\n",
        "                # calculates the gradient and accumulates\n",
        "                loss.backward()  # we backpropagate the loss\n",
        "                # updates the parameters\n",
        "                self.optimizer.step()\n",
        "                self.optimizer.zero_grad()\n",
        "\n",
        "                epoch_loss += loss.item()\n",
        "                len_train += 1\n",
        "\n",
        "            self.model.eval()\n",
        "            for step, sample in enumerate(eval_dataset):\n",
        "                # inputs in the batch\n",
        "                inputs = sample[0].to(self.device)\n",
        "                # outputs in the batch\n",
        "                targets = sample[1].to(self.device)\n",
        "                output_distribution = self.model(inputs)\n",
        "                loss = self.model.loss(output_distribution['pred'], targets)  # compute loss    \n",
        "                y_pred = (output_distribution['pred']>0.5).float().cpu()\n",
        "                y_true = targets.cpu()\n",
        "                accuracy += accuracy_score(y_true, y_pred)\n",
        "                f1 += f1_score(y_true,y_pred)\n",
        "                #accuracy += ((output_distribution['pred'] > 0.5) == targets).float().mean().item() #TODO\n",
        "                epoch_val_loss += loss.item()\n",
        "                len_val_train += 1\n",
        "            \n",
        "            avg_epoch_loss = epoch_loss / len_train\n",
        "            avg_eval_loss = epoch_val_loss / len_val_train\n",
        "            avg_accuracy_loss = accuracy / len_val_train\n",
        "            avg_f1_score = f1/len_val_train\n",
        "            self.writer.add_scalar(\"Train/loss\", avg_epoch_loss, epoch)\n",
        "            self.writer.add_scalar(\"Eval/loss\", avg_eval_loss, epoch)\n",
        "            self.writer.add_scalar(\"Eval/accuracy\", avg_accuracy_loss, epoch)\n",
        "            self.writer.add_scalar(\"Eval/F1_score\", avg_f1_score, epoch)\n",
        "\n",
        "            print('Epoch: {} avg loss = {:0.4f} avg_eval_loss = {:0.4f} avg_eval_acc = {:0.4f} avg_eval_f1 = {:0.4f}'.format(epoch, avg_epoch_loss, avg_eval_loss, avg_accuracy_loss, avg_f1_score))\n",
        "\n",
        "            train_loss += avg_epoch_loss\n",
        "            \n",
        "        torch.save(self.model.state_dict(),os.path.join(root_folder +\"/model\", 'state_{}.pt'.format(epoch)))  # save the model state\n",
        "        self.writer.flush()\n",
        "        avg_epoch_loss = train_loss / epochs\n",
        "        return avg_epoch_loss"
      ],
      "execution_count": null,
      "outputs": []
    },
    {
      "cell_type": "markdown",
      "metadata": {
        "id": "rkHNJ3n7JShv"
      },
      "source": [
        "Instanciating the classifier and tune some hyperparameters such as the number of hidden layers learning rate and number of epochs"
      ]
    },
    {
      "cell_type": "code",
      "metadata": {
        "id": "FbqT_pCjKUJE"
      },
      "source": [
        "sent_classifier = SentencesClassifier(\n",
        "    n_features=int(WE_LENGTH), \n",
        "    n_hidden=200 #@param {type:\"slider\", min:50, max:300, step:50}\n",
        ")\n",
        "learning_rate = 0.0391 #@param {type:\"slider\", min:0.0001, max:0.1, step:0.001}\n",
        "epochs = 100 #@param {type:\"slider\", min:50, max:300, step:10}"
      ],
      "execution_count": null,
      "outputs": []
    },
    {
      "cell_type": "markdown",
      "metadata": {
        "id": "a9BoAWaXJsR4"
      },
      "source": [
        "Defining the optimizer, we will use Stochastic gradient descent and instanciating the trainer to start the train."
      ]
    },
    {
      "cell_type": "code",
      "metadata": {
        "id": "VsbMs2tYbxTv"
      },
      "source": [
        "device = 'cuda' if torch.cuda.is_available() else 'cpu'\n",
        "optimizer = torch.optim.SGD(sent_classifier.parameters(), lr=learning_rate)\n",
        "\n",
        "trainer = Trainer(sent_classifier, optimizer, device)\n",
        "\n",
        "train_dataloader = sentences_dm.train_dataloader()\n",
        "%load_ext tensorboard\n",
        "%tensorboard --logdir=runs\n",
        "avg_loss = trainer.train(train_dataloader,val_dataloader, epochs=epochs)\n",
        "print(avg_loss)"
      ],
      "execution_count": null,
      "outputs": []
    },
    {
      "cell_type": "markdown",
      "metadata": {
        "id": "cijah8M5QXXN"
      },
      "source": [
        "Method to run a prediction on a personal test phrase and see the prob of beeing of the same context"
      ]
    },
    {
      "cell_type": "code",
      "metadata": {
        "id": "kxGcNR-cQXjP"
      },
      "source": [
        "def predict(model, phrase2vector, phrase: str, keyword: str):\n",
        "    phrase_vector = phrase2vector(phrase,METHOD,keyword).to('cuda' if torch.cuda.is_available() else 'cpu')\n",
        "    forward_out = model(phrase_vector.unsqueeze(0))  # add a dimension to create a one-item batch\n",
        "    print(f\"# Sentences: {phrase}\")\n",
        "    for i,prob in enumerate(forward_out[\"pred\"]):\n",
        "        print(\"\\n {}\".format( prob) )\n",
        "predict(sent_classifier, phrase2vector, \"The cat eats the mouse SEP Use the mouse to click on the button\", \"mouse\")\n",
        "predict(sent_classifier, phrase2vector, \"The cat eats the mouse SEP The mouse escaped from the predator\", \"mouse\")\n",
        "\n"
      ],
      "execution_count": null,
      "outputs": []
    },
    {
      "cell_type": "markdown",
      "metadata": {
        "id": "CRni2aJ-O_VY"
      },
      "source": [
        "#Second approach **(sequence encoding with RNN)**\n"
      ]
    },
    {
      "cell_type": "markdown",
      "metadata": {
        "id": "fL_KGqd_MkuA"
      },
      "source": [
        "Let's start by indexing each word in our vocabulary"
      ]
    },
    {
      "cell_type": "code",
      "metadata": {
        "id": "gqI-K3a5PBGA"
      },
      "source": [
        "def create_vocabulary():\n",
        "    word_index = dict()\n",
        "    vectors_store = []\n",
        "\n",
        "    # pad token, index = 0\n",
        "    vectors_store.append(torch.rand(int(WE_LENGTH)))\n",
        "\n",
        "    # unk token, index = 1\n",
        "    vectors_store.append(torch.rand(int(WE_LENGTH)))\n",
        "\n",
        "    for word, vector in word_vectors.items():\n",
        "        word_index[word] = len(vectors_store)\n",
        "        vectors_store.append(vector)\n",
        "\n",
        "    word_index = defaultdict(lambda: 1, word_index)  # default dict returns 1 (unk token) when unknown word\n",
        "    vectors_store = torch.stack(vectors_store)\n",
        "    return word_index,vectors_store"
      ],
      "execution_count": 38,
      "outputs": []
    },
    {
      "cell_type": "markdown",
      "metadata": {
        "id": "-4bKSVzQtMMa"
      },
      "source": [
        "Checking the shape of the built vocabulary"
      ]
    },
    {
      "cell_type": "code",
      "metadata": {
        "id": "YQ6jMUGwfg-2",
        "colab": {
          "base_uri": "https://localhost:8080/"
        },
        "outputId": "cf1a2628-333e-439e-960c-036d9683f580"
      },
      "source": [
        "word_index,vectors_store = create_vocabulary()\n",
        "\n",
        "vocabulary_size, hidden_features = vectors_store.shape\n",
        "print(f\"Vocabulary size: {vocabulary_size}\\nHidden features: {hidden_features}\")\n",
        "word_index['unk'] \n"
      ],
      "execution_count": 39,
      "outputs": [
        {
          "output_type": "stream",
          "text": [
            "Vocabulary size: 140004\n",
            "Hidden features: 100\n"
          ],
          "name": "stdout"
        },
        {
          "output_type": "execute_result",
          "data": {
            "text/plain": [
              "1"
            ]
          },
          "metadata": {
            "tags": []
          },
          "execution_count": 39
        }
      ]
    },
    {
      "cell_type": "markdown",
      "metadata": {
        "id": "C7tVTITMtyD_"
      },
      "source": [
        "Similar to sentence2vector in this function we map each word with the corresponding index of the built vocabulary\n"
      ]
    },
    {
      "cell_type": "code",
      "metadata": {
        "id": "JOKnbTicgFxH"
      },
      "source": [
        "def sentence2indices(sentence: str,method: str,keyword: str) -> torch.Tensor:\n",
        "    return torch.tensor([word_index[word] for word in sentence.split(' ')], dtype=torch.long)"
      ],
      "execution_count": 40,
      "outputs": []
    },
    {
      "cell_type": "markdown",
      "metadata": {
        "id": "cpyQV-lYuFA0"
      },
      "source": [
        "Customized collate function in order to pad the sentences in each batch and to return a custom tuple with X, X_length to calculate the offsets later, targets and indices to know where are the target words"
      ]
    },
    {
      "cell_type": "code",
      "metadata": {
        "id": "nDx2QWAhhYsp"
      },
      "source": [
        "def rnn_collate_fn(\n",
        "    data_elements: List[Tuple[torch.Tensor, torch.Tensor]] # list of (x, y) pairs\n",
        ") -> Tuple[torch.Tensor, torch.Tensor, torch.Tensor]:\n",
        "\n",
        "    X = [de[0] for de in data_elements]  # list of index tensors\n",
        "    # to implement the many-to-one strategy\n",
        "    X_lengths = torch.tensor([x.size(0) for x in X], dtype=torch.long)\n",
        "    \n",
        "\n",
        "    X = torch.nn.utils.rnn.pad_sequence(X, batch_first=True, padding_value=0)  #  shape (batch_size x max_seq_len)\n",
        "\n",
        "    y = [de[1] for de in data_elements]\n",
        "    y = torch.tensor(y)\n",
        "    keyword_position = [de[2] for de in data_elements] # list of tuples indices where keyword is [[1st sent, 2nd sent]]\n",
        "\n",
        "\n",
        "    keyword_position = torch.tensor(keyword_position)\n",
        "\n",
        "    return X, X_lengths, y, keyword_position"
      ],
      "execution_count": 41,
      "outputs": []
    },
    {
      "cell_type": "markdown",
      "metadata": {
        "id": "OwunMH6fWNkI"
      },
      "source": [
        "#### Training "
      ]
    },
    {
      "cell_type": "markdown",
      "metadata": {
        "id": "my_Ku2SAvnBc"
      },
      "source": [
        "Recurrent classifier definition with a customized forward pass"
      ]
    },
    {
      "cell_type": "code",
      "metadata": {
        "id": "xI7M_zasi1ol"
      },
      "source": [
        "class SentencesRecurrentClassifier(nn.Module):\n",
        "\n",
        "    def __init__(\n",
        "        self,\n",
        "        vectors_store: torch.Tensor,\n",
        "        n_hidden: int,\n",
        "        drop_prob: float,\n",
        "        bidir: bool\n",
        "    ) -> None:\n",
        "        super().__init__()\n",
        "\n",
        "\n",
        "        # embedding layer\n",
        "        self.embedding = torch.nn.Embedding.from_pretrained(vectors_store)\n",
        "        self.n_hidden = n_hidden\n",
        "        # recurrent layer\n",
        "        self.rnn = torch.nn.LSTM(input_size=vectors_store.size(1), hidden_size=n_hidden, num_layers=1, batch_first=True, bidirectional=bidir)\n",
        "        self.dropout = nn.Dropout(drop_prob)\n",
        "\n",
        "        # classification \n",
        "        if bidir:\n",
        "           n_hidden = n_hidden*2\n",
        "        self.lin1 = torch.nn.Linear(n_hidden, n_hidden)\n",
        "        self.linear_output = torch.nn.Linear(n_hidden, 1)\n",
        "\n",
        "        # criterion\n",
        "        self.loss_fn = torch.nn.BCELoss()\n",
        "        self.device = 'cuda'\n",
        "\n",
        "    def forward(\n",
        "        self, \n",
        "        X: torch.Tensor, \n",
        "        X_length: torch.Tensor,\n",
        "        indices_keyword: torch.Tensor, \n",
        "        y: Optional[torch.Tensor] = None\n",
        "    ) -> Dict[str, torch.Tensor]:\n",
        "\n",
        "        \n",
        "        embedding_out = self.embedding(X)\n",
        "        # recurrent encoding\n",
        "        recurrent_out = self.rnn(embedding_out)[0]\n",
        "        # here we utilize the sequences length to retrieve the last token \n",
        "        # output for each sequence\n",
        "        \n",
        "        batch_size, seq_len, hidden_size = recurrent_out.shape\n",
        "\n",
        "        # we flatten the recurrent output now I have a long sequence of batch x seq_len vectors \n",
        "        flattened_out = recurrent_out.reshape(-1, hidden_size)\n",
        "        \n",
        "        # and we use a simple trick to compute a tensor of the indices of the last token in each batch element\n",
        "        #last_word_relative_indices = X_length - 1\n",
        "        # tensor of the start offsets of each element in the batch\n",
        "        sequences_offsets = torch.arange(batch_size, device=self.device) * seq_len\n",
        "        # e.g. (0, 5, 10, 15, ) + ( 3, 2, 1, 4 ) = ( 3, 7, 11, 19 )\n",
        "        #summary_vectors_indices = sequences_offsets + last_word_relative_indices\n",
        "        \n",
        "        \n",
        "        summary_vectors_indices_sent1 = self.get_indices_keyword(indices_keyword, sequences_offsets,0)\n",
        "        \n",
        "        summary_vectors_indices_end_first_sent = self.get_indices_keyword(indices_keyword, sequences_offsets,1)\n",
        "\n",
        "        summary_vectors_indices_sent2 = self.get_indices_keyword(indices_keyword, sequences_offsets,2)\n",
        "        \n",
        "\n",
        "        # finaly we retrieve the vectors that should summarize every sentence.\n",
        "        # (i.e. the last token in the sequence)\n",
        "        #summary_vectors = flattened_out[summary_vectors_indices]\n",
        "        \n",
        "        summary_vectors_sent1 = flattened_out[summary_vectors_indices_sent1]\n",
        "        summary_vectors_sent2 = flattened_out[summary_vectors_indices_sent2]\n",
        "        \n",
        "        #summary_vectors = torch.mean(torch.stack((summary_vectors_sent1,summary_vectors_sent2)), dim = 0)\n",
        "        summary_vectors = summary_vectors_sent1 * summary_vectors_sent2\n",
        "        \n",
        "        # now we can classify the sentences with a feedforward pass on the summary\n",
        "        # vectors\n",
        "        out = self.lin1(summary_vectors)\n",
        "        out = F.leaky_relu(out)\n",
        "        \n",
        "\n",
        "        # compute logits (which are simply the out variable) and the actual probability distribution (pred, as it is the predicted distribution)\n",
        "        logits = self.linear_output(out).squeeze(1)\n",
        "        \n",
        "        pred = torch.sigmoid(logits)\n",
        "\n",
        "        result = {'logits': logits, 'pred': pred} #'hidden':hidden}\n",
        "        \n",
        "        # compute loss\n",
        "        if y is not None:\n",
        "            loss = self.loss(pred, y)\n",
        "            result['loss'] = loss\n",
        "        \n",
        "        return result\n",
        "        \n",
        "       \n",
        "    def loss(self, pred, y):\n",
        "        return self.loss_fn(pred, y)\n",
        "\n",
        "    def get_indices_keyword(self,indices_keywords,summary,sent_num):\n",
        "        #[   0,   57,  114,  171,  228] = summary\n",
        "        #[ [ 6, 21],[ 4, 22],[ 6, 21],[ 4, 22] ] = indices_keywords\n",
        "        tens_idx = torch.tensor([item[sent_num] for item in indices_keywords]).to(self.device)\n",
        "        return tens_idx + summary"
      ],
      "execution_count": 42,
      "outputs": []
    },
    {
      "cell_type": "markdown",
      "metadata": {
        "id": "gyB77pPuAkLs"
      },
      "source": [
        "Trainer class that will handle the training phase for the RNN classifier"
      ]
    },
    {
      "cell_type": "code",
      "metadata": {
        "id": "WzBUPzpQzic_"
      },
      "source": [
        "class TrainerRNN():\n",
        "    def __init__(self, model, optimizer, device, exp_details):\n",
        "\n",
        "        self.device = device\n",
        "\n",
        "        self.model = model\n",
        "        self.optimizer = optimizer\n",
        "        self.writer = SummaryWriter(comment=\"_\"+exp_details)\n",
        "\n",
        "        self.model.train()  # we are using this model for training\n",
        "        self.model.to(self.device)  # move model to GPU if available\n",
        "\n",
        "    def train(self, train_dataset, eval_dataset, epochs=1):\n",
        "\n",
        "        train_loss = 0.0\n",
        "        for epoch in tqdm(range(epochs)):\n",
        "            epoch_loss = 0.0\n",
        "            len_train = 0\n",
        "            epoch_val_loss = 0.0\n",
        "            len_val_train = 0\n",
        "            accuracy = 0.0\n",
        "            f1 = 0.0\n",
        "            self.model.train()\n",
        "\n",
        "            # each element (sample) in train_dataset is a batch\n",
        "            for step, sample in enumerate(train_dataset):\n",
        "                # inputs in the batch\n",
        "                inputs = sample[0].to(self.device)\n",
        "                x_lenghts = sample[1].to(self.device)\n",
        "                # outputs in the batch\n",
        "                targets = sample[2].to(self.device)\n",
        "                \n",
        "                idx_start = torch.tensor(sample[3]).to(self.device)\n",
        "\n",
        "                output_distribution = self.model(inputs, x_lenghts, idx_start, targets)\n",
        "\n",
        "                loss = output_distribution['loss']\n",
        "\n",
        "                # calculates the gradient and accumulates\n",
        "                loss.backward()  # we backpropagate the loss\n",
        "                # updates the parameters\n",
        "                self.optimizer.step()\n",
        "                self.optimizer.zero_grad()\n",
        "\n",
        "                epoch_loss += loss.item()\n",
        "                len_train += 1\n",
        "                \n",
        "            self.model.eval()\n",
        "            \n",
        "            for step, sample in enumerate(eval_dataset):\n",
        "                # inputs in the batch\n",
        "                inputs = sample[0].to(self.device)\n",
        "                x_lenghts = sample[1].to(self.device)\n",
        "                # outputs in the batch\n",
        "                targets = sample[2].to(self.device)\n",
        "                #h = tuple([e.data for e in h])\n",
        "\n",
        "                idx_start = torch.tensor(sample[3]).to(self.device)\n",
        "\n",
        "                #output_distribution = self.model(inputs, h)\n",
        "                #h = output_distribution['hidden']\n",
        "\n",
        "                output_distribution = self.model(inputs, x_lenghts, idx_start)\n",
        "                loss = self.model.loss(output_distribution['pred'], targets)  # compute loss  \n",
        "                #print(output_distribution['pred'], targets)  \n",
        "                y_pred = (output_distribution['pred']>0.5).float().cpu()\n",
        "                y_true = targets.cpu()\n",
        "                accuracy += accuracy_score(y_true, y_pred)\n",
        "                f1 += f1_score(y_true,y_pred)\n",
        "\n",
        "                epoch_val_loss += loss.item()\n",
        "                len_val_train += 1\n",
        "            \n",
        "            avg_epoch_loss = epoch_loss / len_train\n",
        "            avg_eval_loss = epoch_val_loss / len_val_train\n",
        "            avg_accuracy_loss = accuracy / len_val_train\n",
        "            avg_f1_score = f1/len_val_train\n",
        "\n",
        "            self.writer.add_scalar(\"Train/loss\", avg_epoch_loss, epoch)\n",
        "            self.writer.add_scalar(\"Eval/loss\", avg_eval_loss, epoch)\n",
        "            self.writer.add_scalar(\"Eval/accuracy\", avg_accuracy_loss, epoch)\n",
        "            self.writer.add_scalar(\"Eval/F1_score\", avg_f1_score, epoch)\n",
        "            print('Epoch: {} avg loss = {:0.4f} eval loss = {:0.4f} ACC = {:0.4f}'.format(epoch, avg_epoch_loss, avg_eval_loss, avg_accuracy_loss))\n",
        "            train_loss += avg_epoch_loss\n",
        "            self.writer.flush()\n",
        "    \n",
        "        torch.save(self.model.state_dict(),root_folder+'/model/'+exp_details+'_epoch_{}.pt'.format(epoch)) # save the model state        \n",
        "        avg_epoch_loss = train_loss / epochs\n",
        "        return avg_epoch_loss"
      ],
      "execution_count": 47,
      "outputs": []
    },
    {
      "cell_type": "markdown",
      "metadata": {
        "id": "Ysl5lG_pxhY9"
      },
      "source": [
        "Loading of the handler for the dataset and choose of the batch size"
      ]
    },
    {
      "cell_type": "code",
      "metadata": {
        "id": "CeaTHJCvvqCh"
      },
      "source": [
        "BATCH_SIZE = 16 #@param {type:\"slider\", min:8, max:64, step:8}\n",
        "\n",
        "sentences_rnn_dm = SentencesDataModule(\n",
        "    data_train_path=dataset_folder+'/train.jsonl',\n",
        "    data_dev_path=dataset_folder+'/dev.jsonl',\n",
        "    batch_size=BATCH_SIZE,\n",
        "    collate_fn = rnn_collate_fn,\n",
        "    vectorize_function = sentence2indices\n",
        ")"
      ],
      "execution_count": 44,
      "outputs": []
    },
    {
      "cell_type": "markdown",
      "metadata": {
        "id": "8o9d52ZOxdiI"
      },
      "source": [
        "Hyperparameter setup"
      ]
    },
    {
      "cell_type": "code",
      "metadata": {
        "id": "j51GSfZSvyTv"
      },
      "source": [
        "n_hidden=128 #@param {type:\"slider\", min:50, max:300, step:16}\n",
        "drop_prob=0.3 #@param {type:\"slider\", min:0, max:1, step:0.1}\n",
        "bidir = True #@param [\"True\", \"False\"] {type:\"raw\"}\n",
        "learning_rate = 0.0001 #@param {type:\"slider\", min:0.0001, max:0.001, step:0.001}\n",
        "epochs = 25 #@param {type:\"slider\", min:10, max:100, step:10}"
      ],
      "execution_count": 45,
      "outputs": []
    },
    {
      "cell_type": "markdown",
      "metadata": {
        "id": "YxReoMvS70jb"
      },
      "source": [
        "Start the training"
      ]
    },
    {
      "cell_type": "code",
      "metadata": {
        "id": "zmaXIR2DjtCg",
        "colab": {
          "base_uri": "https://localhost:8080/",
          "height": 562,
          "referenced_widgets": [
            "6a9da0a887f24a638aea97624f7fa4f9",
            "81228d3c92da4cff86a753160b0b80a4",
            "236a69efcdf34c888e3e49e84e07bae9",
            "c5da5213c9844443ade5bc0b5ce0d2a0",
            "f7befa7656ce4b19b2f70918b90946cc",
            "4a4f2702838444f38f42c4ecf4b1ace6",
            "649b296413894db1b52eede2244c3ba8",
            "d6cd702da2c248169d36ec12427c86bf"
          ]
        },
        "outputId": "d21bda16-51e2-48ff-8544-12d5e552204e"
      },
      "source": [
        "sentences_recurrent_classifier = SentencesRecurrentClassifier(vectors_store, n_hidden=n_hidden,drop_prob=drop_prob, bidir = bidir)\n",
        "device = 'cuda' if torch.cuda.is_available() else 'cpu'\n",
        "\n",
        "optimizer = torch.optim.Adam(sentences_recurrent_classifier.parameters(), lr=learning_rate)\n",
        "\n",
        "exp_details=\"difference_leakyrelu_\"\n",
        "\n",
        "trainer = TrainerRNN(sentences_recurrent_classifier, optimizer, device, exp_details)\n",
        "\n",
        "\n",
        "train_dataloader = sentences_rnn_dm.train_dataloader()\n",
        "val_dataloader = sentences_rnn_dm.val_dataloader()\n",
        "\n",
        "avg_loss = trainer.train(train_dataloader, val_dataloader, epochs=epochs)\n",
        "print(avg_loss)"
      ],
      "execution_count": 48,
      "outputs": [
        {
          "output_type": "display_data",
          "data": {
            "application/vnd.jupyter.widget-view+json": {
              "model_id": "6a9da0a887f24a638aea97624f7fa4f9",
              "version_minor": 0,
              "version_major": 2
            },
            "text/plain": [
              "HBox(children=(FloatProgress(value=0.0, max=25.0), HTML(value='')))"
            ]
          },
          "metadata": {
            "tags": []
          }
        },
        {
          "output_type": "stream",
          "text": [
            "/usr/local/lib/python3.7/dist-packages/ipykernel_launcher.py:33: UserWarning: To copy construct from a tensor, it is recommended to use sourceTensor.clone().detach() or sourceTensor.clone().detach().requires_grad_(True), rather than torch.tensor(sourceTensor).\n",
            "/usr/local/lib/python3.7/dist-packages/ipykernel_launcher.py:58: UserWarning: To copy construct from a tensor, it is recommended to use sourceTensor.clone().detach() or sourceTensor.clone().detach().requires_grad_(True), rather than torch.tensor(sourceTensor).\n"
          ],
          "name": "stderr"
        },
        {
          "output_type": "stream",
          "text": [
            "Epoch: 0 avg loss = 0.6933 eval loss = 0.6923 ACC = 0.5625\n",
            "Epoch: 1 avg loss = 0.6908 eval loss = 0.6864 ACC = 0.5675\n",
            "Epoch: 2 avg loss = 0.6781 eval loss = 0.6664 ACC = 0.6121\n",
            "Epoch: 3 avg loss = 0.6551 eval loss = 0.6467 ACC = 0.6409\n",
            "Epoch: 4 avg loss = 0.6305 eval loss = 0.6343 ACC = 0.6498\n",
            "Epoch: 5 avg loss = 0.6055 eval loss = 0.6280 ACC = 0.6498\n",
            "Epoch: 6 avg loss = 0.5792 eval loss = 0.6266 ACC = 0.6498\n",
            "Epoch: 7 avg loss = 0.5510 eval loss = 0.6307 ACC = 0.6558\n",
            "Epoch: 8 avg loss = 0.5204 eval loss = 0.6407 ACC = 0.6567\n",
            "Epoch: 9 avg loss = 0.4874 eval loss = 0.6580 ACC = 0.6488\n",
            "Epoch: 10 avg loss = 0.4522 eval loss = 0.6829 ACC = 0.6389\n",
            "Epoch: 11 avg loss = 0.4152 eval loss = 0.7161 ACC = 0.6339\n",
            "Epoch: 12 avg loss = 0.3769 eval loss = 0.7584 ACC = 0.6379\n",
            "Epoch: 13 avg loss = 0.3378 eval loss = 0.8102 ACC = 0.6389\n",
            "Epoch: 14 avg loss = 0.2979 eval loss = 0.8711 ACC = 0.6329\n",
            "Epoch: 15 avg loss = 0.2578 eval loss = 0.9416 ACC = 0.6310\n",
            "Epoch: 16 avg loss = 0.2183 eval loss = 1.0254 ACC = 0.6250\n",
            "Epoch: 17 avg loss = 0.1799 eval loss = 1.1298 ACC = 0.6260\n",
            "Epoch: 18 avg loss = 0.1438 eval loss = 1.2544 ACC = 0.6190\n",
            "Epoch: 19 avg loss = 0.1124 eval loss = 1.3953 ACC = 0.6181\n",
            "Epoch: 20 avg loss = 0.0889 eval loss = 1.5412 ACC = 0.6220\n",
            "Epoch: 21 avg loss = 0.0773 eval loss = 1.6436 ACC = 0.6270\n",
            "Epoch: 22 avg loss = 0.0705 eval loss = 1.6863 ACC = 0.6319\n",
            "Epoch: 23 avg loss = 0.0649 eval loss = 1.8263 ACC = 0.6270\n",
            "Epoch: 24 avg loss = 0.0503 eval loss = 1.9327 ACC = 0.6200\n",
            "\n",
            "0.36940616221349487\n"
          ],
          "name": "stdout"
        }
      ]
    },
    {
      "cell_type": "markdown",
      "metadata": {
        "id": "ga3YZRyF737b"
      },
      "source": [
        "See some nice graph of the finished training"
      ]
    },
    {
      "cell_type": "code",
      "metadata": {
        "id": "hFKYSAHv7DKl"
      },
      "source": [
        "a = torch.tensor([ [ 6, 21],[ 4, 22],[ 6, 21],[ 4, 22] ], dtype=float)\n",
        "b = torch.tensor([ [ 1, 1],[ 4, 2],[ 1, 21],[ 2, 2] ], dtype=float)\n",
        "c = torch.mean(torch.stack((a,b)), dim = 0)\n",
        "print(c)\n",
        "print(torch.stack((a,b)), c.shape)\n",
        "try:\n",
        "    %reload_ext tensorboard\n",
        "except:\n",
        "    %load_ext tensorboard\n",
        "%tensorboard --logdir=runs"
      ],
      "execution_count": null,
      "outputs": []
    }
  ]
}